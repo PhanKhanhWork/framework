{
 "cells": [
  {
   "cell_type": "code",
   "execution_count": 11,
   "metadata": {},
   "outputs": [],
   "source": [
    "import pandas as pd\n",
    "import numpy as np \n"
   ]
  },
  {
   "cell_type": "code",
   "execution_count": 12,
   "metadata": {},
   "outputs": [],
   "source": [
    "def combination(k, n):\n",
    "    if k == 0 or k == n:\n",
    "        return 1\n",
    "    if k == 1:\n",
    "        return n\n",
    "    return combination(k - 1, n - 1) + combination(k, n - 1)\n",
    "\n",
    "\n",
    "def caculateA(base):\n",
    "    colum = len(base[0])\n",
    "    row = len(base)\n",
    "    A = np.zeros((row, combination(4, colum - 1)))\n",
    "\n",
    "    for r1 in range(row):\n",
    "        k = [0] * combination(4, colum - 1)\n",
    "        temp = 0\n",
    "        for a in range(0, colum - 4):\n",
    "            for b in range(a + 1, colum - 3):\n",
    "                for c in range(b + 1, colum - 2):\n",
    "                    for d in range(c + 1, colum - 1):\n",
    "                        for r2 in range(row):\n",
    "                            if base[r1][a] == base[r2][a] and base[r1][b] == base[r2][b] and base[r1][c] == base[r2][c] and base[r1][d] == base[r2][d]:\n",
    "                                k[temp] += 1\n",
    "\n",
    "                        A[r1][temp] = k[temp] / row\n",
    "                        temp += 1\n",
    "    print(\"done A\")\n",
    "    return A\n",
    "\n",
    "\n",
    "def caculateM(base):\n",
    "    colum = len(base[0])\n",
    "    row = len(base)\n",
    "    M = np.zeros((row, colum - 1))\n",
    "    for t1 in range(row):\n",
    "        k = [0] * (colum - 1)\n",
    "        temp = 0\n",
    "        for i in range(colum - 1):\n",
    "            for t2 in range(row):\n",
    "                if base[t1][i] == base[t2][i] and base[t1][colum - 1] == base[t2][colum - 1]:\n",
    "                    k[temp] += 1\n",
    "            M[t1][temp] = k[temp] / row\n",
    "            temp += 1\n",
    "\n",
    "    return M\n",
    "\n",
    "\n",
    "def caculateB(base, A, M):\n",
    "    colum = len(base[0])\n",
    "    row = len(base)\n",
    "    B = np.zeros((row, combination(3, colum - 1)))\n",
    "\n",
    "    for r in range(row):\n",
    "        temp = 0\n",
    "        for a in range(0, colum - 3):\n",
    "            for b in range(a + 1, colum - 2):\n",
    "                for c in range(b + 1, colum - 1):\n",
    "                    B[r][temp] = sum(A[r]) * min(M[r][a], M[r][b], M[r][c])\n",
    "                    temp += 1\n",
    "    print(\"done B\")\n",
    "    return B\n",
    "\n",
    "\n",
    "def caculateC(base, B):\n",
    "    colum = len(base[0])\n",
    "    row = len(base)\n",
    "    cols = 2 * combination(3, colum - 1)\n",
    "    C = np.zeros((row, cols))\n",
    "\n",
    "    for r1 in range(row):\n",
    "        temp = 0\n",
    "        for i in range(2):\n",
    "            for a in range(0, (colum - 3)):\n",
    "                for b in range(a + 1, (colum - 2)):\n",
    "                    for c in range(b + 1, (colum - 1)):\n",
    "                        for r2 in range(row):\n",
    "                            if base[r1][a] == base[r2][a] and base[r1][b] == base[r2][b] and base[r1][c] == base[r2][c] and base[r2][colum - 1] == i:\n",
    "                                C[r1][temp] += B[r2][temp % combination(3, colum - 1)]\n",
    "                        # print(temp,\":\",temp//combination(3,colum-1))\n",
    "                        temp += 1\n",
    "    print(\"done C\")\n",
    "    return C"
   ]
  },
  {
   "cell_type": "code",
   "execution_count": 13,
   "metadata": {},
   "outputs": [],
   "source": [
    "def FISA(base, C, list):\n",
    "    colum = len(base[0])\n",
    "    row = len(base)\n",
    "\n",
    "    cols = combination(3, (colum - 1))\n",
    "    C0 = [0] * cols\n",
    "    C1 = [0] * cols\n",
    "\n",
    "    t = 0\n",
    "    for a in range(0, colum - 3):\n",
    "        for b in range(a + 1, colum - 2):\n",
    "            for c in range(b + 1, colum - 1):\n",
    "                for r in range(row-1):\n",
    "                    if base[r][a] == list[a] and base[r][b] == list[b] and base[r][c] == list[c] and base[r][colum-1] == 0:\n",
    "                        C0[t] = C[r][t + 0 * cols]\n",
    "                        # break\n",
    "                    if base[r][a] == list[a] and base[r][b] == list[b] and base[r][c] == list[c] and base[r][colum-1] == 1:\n",
    "                        C1[t] = C[r][t + 1 * cols]\n",
    "                        # break\n",
    "                t += 1\n",
    "    #print(t)\n",
    "\n",
    "    D0 = max(C0) + min(C0)\n",
    "    D1 = max(C1) + min(C1)\n",
    "\n",
    "    #print(D0, max(C0), min(C0))\n",
    "    #print(D1, max(C1), min(C1))\n",
    "    #print(D2, max(C2), min(C2))\n",
    "    if D0 > D1:\n",
    "        return 0, D0/(D0+D1)\n",
    "    else:\n",
    "        return 1, D1/(D0+D1)"
   ]
  },
  {
   "cell_type": "code",
   "execution_count": 14,
   "metadata": {},
   "outputs": [],
   "source": [
    "def Acc(A,B):\n",
    "    result = 0\n",
    "\n",
    "    for i in range(len(A)):\n",
    "        if int(A[i]) - int(B[i]) == 0:\n",
    "            result += 1\n",
    "\n",
    "    return round(result*100/len(A), 2)\n",
    "\n",
    "\n",
    "def Tprecision(Pre,Act):\n",
    "    result = 0\n",
    "    TP = 0\n",
    "    FP = 0\n",
    "\n",
    "    for i in range(len(Pre)):\n",
    "        if int(Pre[i]) == 1 and int(Act[i]) == 1:\n",
    "            TP +=1\n",
    "        if int(Pre[i]) == 1 and int(Act[i]) == 0:\n",
    "            FP +=1\n",
    "\n",
    "    #return str(TP) +  \" : \" + str(TP+FP)\n",
    "\n",
    "    if TP:\n",
    "        return round(100*TP/(TP+FP),2)\n",
    "    else:\n",
    "        if FP:\n",
    "            return 0\n",
    "        else:\n",
    "            return None\n",
    "\n",
    "\n",
    "def Trecall(Pre,Act):\n",
    "    result = 0\n",
    "    TP = 0\n",
    "    FN = 0\n",
    "\n",
    "    for i in range(len(Pre)):\n",
    "        if int(Pre[i]) == 1 and int(Act[i]) == 1:\n",
    "            TP +=1\n",
    "        if int(Pre[i]) == 0 and int(Act[i]) == 1:\n",
    "            FN +=1\n",
    "\n",
    "    #return str(TP) +  \" : \" + str(TP+FN)\n",
    "\n",
    "    if TP:\n",
    "        return round(100*TP/(TP+FN),2)\n",
    "    else:\n",
    "        if FN:\n",
    "            return 0\n",
    "        else:\n",
    "            return None\n",
    "\n",
    "listAcc = []\n",
    "listPre = []\n",
    "listRe = []\n",
    "timeTest = []\n",
    "timeUpdate = []\n",
    "listRank = []\n",
    "res = []\n",
    "\n",
    "def testAccuracy(base,Te,C):\n",
    "    test = Te\n",
    "    X = np.zeros(len(test))\n",
    "    ddd = np.zeros(len(test))\n",
    "    X_test = np.array(test).T[-1]\n",
    "    for i in range(len(test)):\n",
    "        X[i], ddd[i] = FISA(base, C, test[i])\n",
    "        listRank.append(ddd[i])\n",
    "        #print(test[i])\n",
    "    # for dd in ddd:\n",
    "    #     print(dd)\n",
    "    # listRank.append(ddd)\n",
    "\n",
    "    #print(X)\n",
    "    #print(X_test)\n",
    "    res.append(X)\n",
    "    listAcc.append(Acc(X,X_test))\n",
    "    listPre.append(Tprecision(X,X_test))\n",
    "    listRe.append(Trecall(X,X_test))"
   ]
  },
  {
   "cell_type": "markdown",
   "metadata": {},
   "source": []
  },
  {
   "cell_type": "code",
   "execution_count": 15,
   "metadata": {},
   "outputs": [
    {
     "name": "stdout",
     "output_type": "stream",
     "text": [
      "537\n",
      "[['Low', 'Medium', 'High', 'Low', 'Low', 'OverWeight', 'Low', 'Low', 0], ['Very_High', 'Medium', 'Medium', 'Low', 'Very_High', 'Obese2', 'Low', 'Medium', 0], ['Very_High', 'Medium', 'Medium', 'Low', 'Low', 'OverWeight', 'Low', 'Very_High', 0], ['Very_High', 'Medium', 'Medium', 'Low', 'Low', 'Obese', 'Low', 'High', 0], ['Very_High', 'Low', 'Medium', 'Low', 'Low', 'Obese', 'Low', 'Medium', 0], ['Medium', 'High', 'Medium', 'Low', 'Medium', 'Normal', 'Medium', 'Low', 0], ['Medium', 'Medium', 'Medium', 'Low', 'High', 'Obese2', 'Medium', 'Low', 0], ['Low', 'Low', 'Medium', 'Low', 'High', 'Normal', 'Low', 'Low', 0], ['High', 'High', 'Very_High', 'Low', 'Low', 'Obese2', 'Low', 'High', 1], ['Very_High', 'Medium', 'Medium', 'Low', 'High', 'OverWeight', 'Medium', 'Medium', 1], ['Low', 'High', 'High', 'Low', 'Very_High', 'Obese2', 'Low', 'Low', 1], ['Very_High', 'High', 'Medium', 'Low', 'High', 'OverWeight', 'Medium', 'High', 0], ['Very_High', 'Medium', 'Low', 'Low', 'Obese', 'Low', 'Medium', nan, 1], ['Medium', 'Medium', 'Medium', 'Low', 'High', 'OverWeight', 'Medium', 'Low', 0], ['Very_High', 'Medium', 'Medium', 'Low', 'Low', 'Obese2', 'High', 'Medium', 1], ['Medium', 'Low', 'Medium', 'Low', 'Medium', 'Obese', 'High', 'Low', 1], ['High', 'High', 'Low', 'Low', 'Obese', 'Low', 'Low', nan, 1], ['Low', 'High', 'Medium', 'Low', 'Medium', 'OverWeight', 'Low', 'Low', 0], ['Medium', 'Low', 'Low', 'Low', 'Medium', 'Obese', 'Low', 'Low', 0], ['High', 'Medium', 'Medium', 'Low', 'Low', 'OverWeight', 'Low', 'Medium', 1], ['Low', 'High', 'Very_High', 'Medium', 'High', 'Obese2', 'Low', 'Low', 0], ['Low', 'Medium', 'Medium', 'Low', 'Low', 'OverWeight', 'Low', 'Medium', 0], ['Low', 'Low', 'Very_High', 'Low', 'Medium', 'Obese2', 'High', 'Medium', 0], ['Medium', 'Low', 'Low', 'Low', 'Medium', 'Obese', 'Low', 'Low', 1], ['Very_High', 'Medium', 'Medium', 'Low', 'Low', 'Obese2', 'Low', 'Medium', 0], ['Low', 'Low', 'Medium', 'Medium', 'Medium', 'Obese2', 'Medium', 'Low', 0], ['Low', 'Medium', 'Medium', 'Low', 'Low', 'UnderWeight', 'Medium', 'Low', 0], ['Low', 'High', 'Medium', 'Low', 'Low', 'Obese', 'Medium', 'Low', 0], ['Very_High', 'Medium', 'Medium', 'Low', 'Low', 'OverWeight', 'Low', 'Very_High', 0], ['High', 'High', 'Low', 'Very_High', 'Obese2', 'Medium', 'Medium', nan, 0], ['High', 'Low', 'High', 'Medium', 'Medium', 'Obese2', 'Low', 'Low', 0], ['Low', 'Medium', 'Medium', 'Low', 'Obese', 'Low', 'Medium', nan, 1], ['Very_High', 'High', 'High', 'Low', 'High', 'Obese2', 'Low', 'High', 0], ['Very_High', 'Low', 'Medium', 'Low', 'Low', 'Obese2', 'Low', 'High', 0], ['Low', 'Low', 'Medium', 'Low', 'High', 'Obese2', 'Low', 'Low', 0], ['Very_High', 'High', 'Medium', 'Low', 'Low', 'Obese', 'Medium', 'High', 1], ['Very_High', 'High', 'Medium', 'Low', 'Low', 'OverWeight', 'High', 'High', 0], ['High', 'Medium', 'Medium', 'Low', 'Very_High', 'Normal', 'Medium', 'Medium', 0], ['High', 'High', 'Medium', 'Low', 'Low', 'OverWeight', 'Medium', 'High', 1], ['Low', 'Low', 'Medium', 'Low', 'Medium', 'Normal', 'Low', 'Low', 0], ['High', 'Medium', 'Medium', 'Low', 'Low', 'Normal', 'Low', 'Low', 0], ['Medium', 'High', 'Medium', 'Low', 'High', 'Obese', 'Low', 'Medium', 0], ['Medium', 'High', 'Medium', 'Low', 'Low', 'Normal', 'Low', 'Low', 0], ['Low', 'High', 'Low', 'Medium', 'Very_High', 'Obese2', 'Medium', 'Low', 1], ['Very_High', 'Medium', 'Medium', 'Medium', 'Very_High', 'Obese', 'Low', 'Very_High', 0], ['High', 'High', 'Medium', 'Low', 'Very_High', 'Obese2', 'Low', 'Medium', 1], ['Low', 'Medium', 'Low', 'Low', 'Medium', 'Obese2', 'Low', 'Medium', 0], ['Very_High', 'High', 'Medium', 'Low', 'Very_High', 'Obese2', 'Medium', 'High', 1], ['High', 'Medium', 'Medium', 'Low', 'Low', 'Obese', 'Low', 'Medium', 1], ['Low', 'Low', 'Medium', 'Low', 'High', 'Obese2', 'Low', 'Low', 0], ['Low', 'Low', 'Medium', 'Low', 'Medium', 'Obese2', 'Medium', 'Low', 0], ['Low', 'High', 'High', 'Low', 'High', 'Obese2', 'High', 'Medium', 1], ['Medium', 'High', 'Low', 'Low', 'Low', 'Obese2', 'Medium', 'Low', 1], ['Low', 'High', 'Medium', 'Low', 'Very_High', 'Obese2', 'Medium', 'Low', 0], ['Medium', 'Medium', 'Very_High', 'Low', 'Medium', 'OverWeight', 'Low', 'Low', 0], ['Very_High', 'Medium', 'Medium', 'Low', 'Low', 'Obese2', 'Low', 'Medium', 0], ['High', 'Medium', 'Very_High', 'Low', 'Low', 'Obese2', 'Medium', 'Low', 0], ['High', 'Low', 'Medium', 'Low', 'Low', 'OverWeight', 'Medium', 'Medium', 0], ['Low', 'Medium', 'Medium', 'Low', 'Medium', 'Obese', 'Medium', 'Low', 0], ['High', 'High', 'Medium', 'Low', 'Low', 'Obese', 'Low', 'Very_High', 1], ['High', 'Low', 'Medium', 'Low', 'Medium', 'OverWeight', 'Medium', nan, 0], ['Medium', 'Low', 'Low', 'Low', 'Low', 'Obese', 'Low', 'Low', 0], ['Low', 'Medium', 'Medium', 'Low', 'Very_High', 'Obese', 'Low', nan, 0], ['Medium', 'High', 'Medium', 'Low', 'Very_High', 'OverWeight', 'Low', 'Low', 1], ['Low', 'Medium', 'Medium', 'Low', 'High', 'Obese2', 'Medium', 'Low', 0], ['Low', 'High', 'Medium', 'Low', 'Medium', 'Obese', 'Low', 'High', 0], ['Very_High', 'High', 'Medium', 'Low', 'Low', 'Obese2', 'Low', 'Medium', 1], ['Low', 'Medium', 'High', 'Low', 'Very_High', 'Obese2', 'Medium', 'Low', 0], ['High', 'Low', 'Medium', 'Low', 'Low', 'Obese2', 'Medium', 'Medium', 1], ['Medium', 'Low', 'Medium', 'Low', 'Low', 'Obese', 'Low', 'Low', 0], ['High', 'High', 'Medium', 'Low', 'Low', 'Obese', 'Low', 'High', 0], ['Medium', 'High', 'Low', 'Low', 'High', 'Obese', 'Low', 'Low', 1], ['High', 'High', 'Medium', 'Low', 'Medium', 'OverWeight', 'Low', 'Medium', 0], ['Very_High', 'Medium', 'Medium', 'Low', 'Low', 'Normal', 'Medium', 'High', 0], ['Medium', 'High', 'Medium', 'Low', 'Very_High', 'Obese2', 'High', 'Medium', 1], ['Very_High', 'High', 'Very_High', 'Low', 'Very_High', 'Obese', 'Low', 'Medium', 1], ['Low', 'Low', 'Medium', 'Low', 'Low', 'Normal', 'Medium', 'Very_High', 0], ['Medium', 'Medium', 'Medium', 'Low', 'Low', 'Normal', 'Low', 'Low', 0], ['Low', 'Low', 'Medium', 'Low', 'Low', 'OverWeight', 'Low', 'Low', 0], ['Low', 'Low', 'Low', 'Low', 'Normal', 'Low', 'Low', nan, 0], ['Medium', 'Low', 'Medium', 'Low', 'Low', 'OverWeight', 'Low', 'Low', 0], ['High', 'Medium', 'Medium', 'Low', 'Low', 'Obese', 'Low', 'Medium', 1], ['Low', 'Medium', 'Medium', 'Low', 'High', 'Obese2', 'Low', 'Low', 0], ['Very_High', 'High', 'High', 'Low', 'Low', 'Normal', 'Low', 'High', 1], ['Very_High', 'Low', 'Medium', 'Low', 'Low', 'Normal', 'Medium', 'High', 0], ['Low', 'Medium', 'Low', 'Medium', 'Medium', 'Obese2', 'Low', 'Low', 0], ['Medium', 'Medium', 'Medium', 'Low', 'High', 'Obese2', 'Low', 'Medium', 0], ['High', 'Low', 'Medium', 'Low', 'Low', 'Obese', 'Low', 'Medium', 0], ['High', 'Low', 'Medium', 'Low', 'Low', 'OverWeight', 'Low', 'Low', 0], ['Medium', 'Low', 'Medium', 'Low', 'Low', 'Obese', 'Low', 'High', 0], ['Medium', 'Low', 'Medium', 'Low', 'Low', 'Obese', 'Low', 'Medium', 0], ['High', 'Medium', 'Medium', 'Low', 'Low', 'Obese2', 'Low', 'Medium', 1], ['Low', 'High', 'Medium', 'Low', 'Very_High', 'Obese', 'Low', 'High', 1], ['Medium', 'High', 'Medium', 'Low', 'Low', 'Obese', 'Low', 'Low', 1], ['Very_High', 'High', 'Medium', 'Low', 'Low', 'Obese2', 'Low', 'Medium', 1], ['High', 'Medium', 'Medium', 'Medium', 'Very_High', 'Obese2', 'High', 'High', 1], ['Medium', 'Low', 'Very_High', 'Low', 'Low', 'Obese', 'Low', 'Medium', 0], ['Medium', 'Medium', 'Medium', 'Low', 'High', 'Obese', 'High', 'Medium', 0], ['Low', 'Low', 'High', 'Low', 'Medium', 'Obese2', 'Low', 'Low', 1], ['Very_High', 'High', 'Medium', 'Low', 'Low', 'Obese2', 'Low', 'Medium', 1], ['Low', 'Low', 'Low', 'Low', 'Medium', 'Normal', 'Low', 'Low', 0], ['High', 'Medium', 'Medium', 'Low', 'Low', 'Normal', 'Low', 'Low', 0], ['Medium', 'Low', 'Medium', 'Low', 'High', 'Obese', 'Low', 'Low', 0], ['Medium', 'Medium', 'Low', 'Low', 'High', 'Obese', 'Low', 'Low', 0], ['High', 'Medium', 'Very_High', 'Low', 'Low', 'Obese', 'Low', 'Medium', 0], ['Very_High', 'Low', 'Very_High', 'Low', 'Medium', 'Obese2', 'Low', 'High', 0], ['High', 'High', 'High', 'Low', 'Very_High', 'Obese2', 'Low', 'Low', 0], ['Very_High', 'Low', 'Medium', 'Low', 'Low', 'Obese', 'Low', 'Medium', 0], ['Very_High', 'High', 'Medium', 'Low', 'Low', 'Obese2', 'Medium', 'Medium', 1], ['High', 'High', 'Medium', 'Low', 'Low', 'OverWeight', 'Low', 'Very_High', 0], ['High', 'High', 'Medium', 'Low', 'High', 'OverWeight', 'High', 'High', 1], ['High', 'High', 'Medium', 'Low', 'Very_High', 'Obese', 'Low', 'Low', 0], ['Low', 'Low', 'Medium', 'Low', 'Low', 'Obese2', 'Low', 'Medium', 0], ['Low', 'High', 'Medium', 'Low', 'Very_High', 'Obese2', 'Low', 'Low', 1], ['Medium', 'Low', 'Low', 'Low', 'UnderWeight', 'Low', 'Low', nan, 0], ['Low', 'Medium', 'Medium', 'Low', 'Medium', 'OverWeight', 'Medium', 'Low', 0], ['Low', 'High', 'Medium', 'Medium', 'Very_High', 'Obese2', 'Low', 'High', 1], ['Medium', 'Medium', 'High', 'Low', 'Obese2', 'Low', 'Low', nan, 0], ['Low', 'High', 'Medium', 'Low', 'Very_High', 'OverWeight', 'Medium', 'Low', 0], ['Medium', 'High', 'Low', 'Low', 'OverWeight', 'Low', 'Low', nan, 0], ['Very_High', 'Medium', 'Low', 'High', 'Obese', 'Low', 'High', nan, 0], ['Low', 'High', 'Low', 'Low', 'High', 'Obese2', 'Low', 'Low', 1], ['Low', 'High', 'High', 'Low', 'Very_High', 'Obese', 'Medium', 'Low', 0], ['Very_High', 'Medium', 'Medium', 'Low', 'Very_High', 'Obese2', 'Low', 'High', 1], ['High', 'Medium', 'Medium', 'Low', 'Medium', 'Obese2', 'Low', 'Medium', 0], ['Very_High', 'High', 'High', 'Low', 'Low', 'Obese', 'Low', 'High', 1], ['Low', 'Medium', 'Medium', 'Low', 'High', 'Obese', 'Low', 'Low', 0], ['High', 'Medium', 'Medium', 'Low', 'Low', 'OverWeight', 'Low', 'Low', 1], ['Very_High', 'Medium', 'Medium', 'Low', 'Low', 'OverWeight', 'Low', 'Low', 1], ['Medium', 'High', 'Medium', 'Low', 'Low', 'OverWeight', 'Medium', 'Low', 1], ['Very_High', 'High', 'Very_High', 'Low', 'Medium', 'OverWeight', 'Medium', 'Medium', 1], ['Low', 'High', 'Medium', 'Low', 'Low', 'Obese2', 'Low', 'Low', 1], ['Low', 'High', 'Very_High', 'Low', 'Low', 'Normal', 'Low', 'Low', 0], ['Low', 'Low', 'Medium', 'Low', 'Medium', 'Obese', 'Low', 'Low', 0], ['Low', 'High', 'Low', 'Low', 'Low', 'OverWeight', 'Medium', 'Low', 0], ['Medium', 'High', 'High', 'Low', 'Very_High', 'Obese2', 'Medium', 'Low', 0], ['Medium', 'High', 'Low', 'Low', 'OverWeight', 'Low', 'Low', nan, 1], ['Medium', 'Low', 'Low', 'Low', 'Medium', 'Obese', 'Low', 'Low', 0], ['Very_High', 'High', 'Low', 'High', 'OverWeight', 'Low', 'Medium', nan, 1], ['Low', 'Low', 'Medium', 'Low', 'Low', 'Obese', 'Medium', 'Low', 0], ['Medium', 'Medium', 'Medium', 'Low', 'Low', 'Obese2', 'Low', 'Low', 0], ['Very_High', 'Medium', 'Very_High', 'Low', 'Low', 'Normal', 'Low', 'High', 0], ['High', 'High', 'Low', 'Low', 'Obese', 'Low', 'Medium', nan, 0], ['Very_High', 'High', 'Very_High', 'Low', 'Low', 'Obese', 'Medium', 'High', 1], ['Very_High', 'Low', 'Low', 'Low', 'Low', 'Normal', 'Low', 'Medium', 0], ['Low', 'Low', 'Medium', 'Low', 'Low', 'Normal', 'High', 'Medium', 0], ['Medium', 'High', 'Medium', 'Low', 'High', 'Obese', 'Low', 'Low', 1], ['High', 'High', 'Medium', 'Low', 'Very_High', 'OverWeight', 'Low', 'Medium', 1], ['Very_High', 'Medium', 'Medium', 'Low', 'Very_High', 'Obese', 'Low', 'Medium', 1], ['Low', 'Medium', 'Medium', 'Low', 'Medium', 'Normal', 'Low', nan, 0], ['Low', 'Low', 'Medium', 'Low', 'Low', 'Obese2', 'Low', 'Low', 0], ['High', 'High', 'Medium', 'Low', 'Very_High', 'Obese', 'Low', 'Medium', 0], ['Medium', 'Low', 'Medium', 'Low', 'Medium', 'Obese', 'Medium', 'Medium', 0], ['High', 'Low', 'Low', 'Low', 'OverWeight', 'Medium', 'Medium', nan, 0], ['High', 'Medium', 'High', 'Low', 'High', 'Obese2', 'Low', 'Medium', 0], ['Very_High', 'High', 'Medium', 'Low', 'Low', 'Obese2', 'Medium', 'Medium', 1], ['Medium', 'Medium', 'Medium', 'Low', 'Low', 'Normal', 'Low', 'Medium', 0], ['High', 'High', 'Medium', 'Low', 'Low', 'OverWeight', 'Low', 'Very_High', 0], ['High', 'Medium', 'Medium', 'Low', 'Low', 'Obese2', 'Low', 'Medium', 0], ['Medium', 'Low', 'Medium', 'Low', 'Low', 'Obese2', 'Medium', 'Low', 1], ['High', 'Medium', 'Medium', 'Medium', 'Very_High', 'Obese', 'Medium', 'Medium', 0], ['Low', 'High', 'Very_High', 'Medium', 'Low', 'Obese2', 'Low', 'Low', 1], ['Medium', 'Medium', 'Medium', 'Low', 'Low', 'OverWeight', 'Low', 'Low', 0], ['High', 'Low', 'Medium', 'Low', 'Medium', 'Obese', 'Medium', nan, 0], ['High', 'High', 'Medium', 'Low', 'Low', 'Obese', 'Low', 'Very_High', 0], ['Low', 'Medium', 'Low', 'Low', 'Medium', 'Normal', 'Medium', 'Low', 0], ['High', 'Medium', 'Medium', 'Low', 'Low', 'OverWeight', 'Low', 'Medium', 0], ['Low', 'High', 'Medium', 'Low', 'High', 'Normal', 'Low', 'Low', 0], ['Low', 'Medium', 'Low', 'Low', 'Obese', 'Medium', 'Medium', nan, 0], ['Low', 'High', 'Medium', 'Low', 'High', 'OverWeight', 'Low', 'Low', 0], ['Low', 'Medium', 'Medium', 'Low', 'Low', 'OverWeight', 'Low', 'Low', 0], ['Very_High', 'Low', 'Medium', 'Low', 'Very_High', 'OverWeight', 'Medium', 'Medium', 1], ['Medium', 'Medium', 'Low', 'Low', 'OverWeight', 'Low', 'Low', nan, 0], ['Low', 'High', 'Low', 'Low', 'Very_High', 'Obese', 'Medium', 'Low', 1], ['Very_High', 'Low', 'Medium', 'Low', 'Low', 'Obese2', 'Low', 'Medium', 0], ['Low', 'Medium', 'Medium', 'Low', 'High', 'Obese', 'Low', 'Low', 0], ['High', 'High', 'Very_High', 'Low', 'Low', 'Obese', 'Medium', 'Very_High', 1], ['Very_High', 'Low', 'Medium', 'Low', 'Medium', 'OverWeight', 'Medium', 'Medium', 0], ['Medium', 'Medium', 'Medium', 'Low', 'Medium', 'Obese2', 'Low', 'Low', 0], ['Low', 'Medium', 'Medium', 'Medium', 'Very_High', 'Obese2', 'High', 'Medium', 0], ['High', 'Low', 'Medium', 'Low', 'Low', 'Obese', 'Low', 'Low', 0], ['Low', 'Medium', 'Medium', 'Very_High', 'Obese2', 'Medium', 'Medium', nan, 1], ['Medium', 'Medium', 'Medium', 'Medium', 'High', 'Obese2', 'Low', 'Low', 0], ['Very_High', 'High', 'Low', 'Low', 'Very_High', 'Obese', 'Medium', 'Medium', 1], ['Low', 'Low', 'Medium', 'Low', 'Low', 'Obese2', 'Low', 'High', 0], ['Low', 'Medium', 'Medium', 'Low', 'Low', 'Obese2', 'Medium', 'Low', 0], ['Very_High', 'High', 'High', 'Low', 'Low', 'Obese2', 'Low', 'High', 0], ['Very_High', 'Low', 'Medium', 'Low', 'Medium', 'Obese2', 'Medium', 'Medium', 0], ['Very_High', 'High', 'Medium', 'Low', 'Low', 'Obese', 'Low', 'Medium', 1], ['Very_High', 'Medium', 'Medium', 'Low', 'Low', 'Obese', 'Low', 'Medium', 1], ['Very_High', 'High', 'Very_High', 'Low', 'Low', 'Obese2', 'Medium', 'Medium', 1], ['Very_High', 'Medium', 'Low', 'Low', 'Obese2', 'Low', 'Low', nan, 0], ['Medium', 'Medium', 'Medium', 'Low', 'Medium', 'Normal', 'Medium', 'Low', 1], ['Low', 'High', 'Low', 'Very_High', 'Obese', 'Medium', 'Low', nan, 0], ['Low', 'High', 'Low', 'Low', 'OverWeight', 'Low', 'High', nan, 0], ['Low', 'Medium', 'Medium', 'Low', 'Low', 'Obese', 'Low', 'Low', 1], ['Low', 'Low', 'Medium', 'Low', 'Low', 'UnderWeight', 'Low', 'Low', 0], ['Very_High', 'High', 'Medium', 'Low', 'Low', 'OverWeight', 'High', 'Medium', 1], ['Very_High', 'High', 'Medium', 'Low', 'High', 'Normal', 'Low', 'High', 0], ['High', 'Medium', 'Medium', 'Low', 'Low', 'OverWeight', 'Medium', 'Medium', 0], ['High', 'Medium', 'Medium', 'Low', 'Medium', 'Obese', 'Low', 'Low', 0], ['High', 'High', 'Medium', 'Low', 'Very_High', 'Obese', 'Low', 'Low', 1], ['Very_High', 'Medium', 'High', 'Low', 'Low', 'OverWeight', 'Low', 'Low', 1], ['Very_High', 'High', 'Medium', 'Low', 'High', 'Obese2', 'Medium', 'High', 1], ['Low', 'Medium', 'Medium', 'Low', 'Low', 'Obese', 'Medium', 'Low', 1], ['Medium', 'Medium', 'Low', 'Low', 'Medium', 'Obese', 'Low', 'Low', 0], ['Medium', 'High', 'Very_High', 'Low', 'Low', 'Obese', 'Medium', 'Very_High', 1], ['Medium', 'Medium', 'Medium', 'Low', 'Low', 'OverWeight', 'Low', 'Low', 0], ['Very_High', 'High', 'Medium', 'Low', 'Medium', 'OverWeight', 'Low', 'Medium', 0], ['Low', 'High', 'Very_High', 'Low', 'Medium', 'Obese', 'High', 'Medium', 1], ['High', 'High', 'Medium', 'Low', 'Very_High', 'OverWeight', 'Medium', 'Medium', 0], ['Low', 'Low', 'Medium', 'Low', 'Medium', 'OverWeight', 'High', 'Low', 0], ['High', 'High', 'Low', 'Medium', 'Obese2', 'Low', 'Medium', nan, 1], ['Low', 'Medium', 'Medium', 'Low', 'Low', 'Obese2', 'Low', 'Medium', 1], ['Low', 'Low', 'Low', 'Medium', 'OverWeight', 'Medium', 'Low', nan, 0], ['Low', 'Low', 'Medium', 'Low', 'High', 'OverWeight', 'Low', 'Low', 0], ['Low', 'Low', 'Medium', 'Low', 'Medium', 'Obese2', 'Medium', 'Low', 0], ['Medium', 'Low', 'High', 'Low', 'Medium', 'OverWeight', 'Low', 'Low', 0], ['Low', 'Medium', 'Medium', 'Low', 'Low', 'Normal', 'Low', 'Low', 0], ['Very_High', 'High', 'Medium', 'Low', 'Low', 'Obese', 'Low', 'High', 1], ['Very_High', 'High', 'Medium', 'Low', 'Medium', 'OverWeight', 'Low', 'Very_High', 0], ['Very_High', 'High', 'Medium', 'Low', 'High', 'Obese', 'High', 'High', 1], ['Medium', 'Medium', 'Low', 'Low', 'Low', 'Obese', 'Medium', 'Medium', 0], ['Very_High', 'Medium', 'Medium', 'Medium', 'Low', 'Obese2', 'Low', 'High', 0], ['Very_High', 'Medium', 'Low', 'Low', 'UnderWeight', 'Low', 'Medium', nan, 1], ['Very_High', 'Medium', 'Low', 'Low', 'OverWeight', 'Low', 'Medium', nan, 0], ['Low', 'High', 'Low', 'Low', 'Obese2', 'Low', 'Medium', nan, 1], ['Low', 'High', 'Medium', 'Medium', 'Very_High', 'Obese2', 'Low', 'Low', 0], ['Low', 'High', 'Low', 'Low', 'Very_High', 'Obese2', 'Very_High', 'Medium', 1], ['Medium', 'Low', 'Medium', 'Low', 'Medium', 'Normal', 'Low', 'Medium', 0], ['Low', 'Medium', 'Medium', 'Low', 'Very_High', 'Obese', 'Medium', 'Low', 0], ['Very_High', 'High', 'Medium', 'Low', 'High', 'OverWeight', 'Low', 'High', 1], ['Very_High', 'High', 'Medium', 'Low', 'Very_High', 'Obese2', 'Medium', 'Medium', 1], ['Medium', 'Medium', 'Medium', 'Low', 'High', 'Obese2', 'Low', 'Low', 0], ['Very_High', 'High', 'Low', 'Low', 'OverWeight', 'Low', 'High', nan, 0], ['Low', 'High', 'Low', 'Very_High', 'Obese2', 'High', 'Low', nan, 0], ['Low', 'High', 'Medium', 'Low', 'Low', 'Obese2', 'Very_High', 'Low', 1], ['High', 'High', 'Medium', 'Low', 'Very_High', 'Obese', 'Low', 'Medium', 0], ['High', 'Low', 'Medium', 'Low', 'Low', 'Obese', 'Low', 'Medium', 0], ['Low', 'Low', 'High', 'Low', 'Medium', 'Obese2', 'Low', 'Low', 0], ['High', 'High', 'Medium', 'Low', 'Low', 'OverWeight', 'Low', 'Low', 0], ['Medium', 'Low', 'Low', 'Low', 'Medium', 'OverWeight', 'Medium', 'Low', 0], ['Low', 'Low', 'Medium', 'Low', 'Medium', 'OverWeight', 'Low', 'Low', 0], ['Very_High', 'Low', 'Medium', 'Low', 'Low', 'Normal', 'Low', 'Medium', 0], ['Medium', 'Medium', 'Medium', 'Low', 'Low', 'Obese', 'Low', 'Low', 1], ['Very_High', 'High', 'Medium', 'Low', 'Low', 'Obese', 'Low', 'High', 1], ['High', 'Low', 'Medium', 'Low', 'Low', 'OverWeight', 'Low', 'Medium', 0], ['Medium', 'High', 'Medium', 'Low', 'Low', 'Obese2', 'High', 'Low', 0], ['Very_High', 'High', 'High', 'Low', 'High', 'Obese2', 'High', 'Medium', 0], ['Low', 'High', 'Medium', 'Low', 'Low', 'OverWeight', 'Low', 'Low', 0], ['Medium', 'High', 'Medium', 'Low', 'Low', 'Obese', 'Low', 'Medium', 1], ['Medium', 'High', 'Medium', 'Low', 'Medium', 'OverWeight', 'Low', 'Medium', 1], ['Very_High', 'Medium', 'Medium', 'Low', 'Very_High', 'Obese2', 'Medium', 'Medium', 1], ['Medium', 'High', 'Low', 'Low', 'Very_High', 'Obese', 'Low', 'Low', 0], ['Very_High', 'Medium', 'Medium', 'Low', 'High', 'Obese2', 'Medium', 'High', 1], ['Low', 'Low', 'Medium', 'Low', 'Medium', 'OverWeight', 'Low', 'Low', 0], ['Low', 'Low', 'Low', 'Low', 'Medium', 'Obese', 'High', 'Low', 0], ['Very_High', 'Medium', 'Medium', 'Low', 'High', 'Obese2', 'Low', 'High', 0], ['High', 'High', 'Medium', 'Low', 'Low', 'Normal', 'Low', 'Very_High', 1], ['Medium', 'Medium', 'Medium', 'Medium', 'Medium', 'Obese2', 'Medium', 'Low', 0], ['Low', 'Medium', 'Medium', 'Low', 'Low', 'Obese2', 'Medium', 'Low', 0], ['Medium', 'High', 'Low', 'Low', 'Very_High', 'OverWeight', 'High', 'Low', 0], ['Low', 'High', 'Low', 'Low', 'Very_High', 'OverWeight', 'Medium', 'Low', 0], ['Low', 'Medium', 'High', 'Low', 'High', 'OverWeight', 'Medium', 'Low', 0], ['High', 'Low', 'Medium', 'Low', 'Low', 'OverWeight', 'Low', 'Low', 0], ['Low', 'High', 'Medium', 'Low', 'Very_High', 'Obese2', 'Medium', 'Low', 1], ['Medium', 'Low', 'Medium', 'Low', 'Medium', 'Obese', 'Low', nan, 0], ['Low', 'Medium', 'Medium', 'Low', 'Very_High', 'Normal', 'Low', 'Low', 0], ['Medium', 'High', 'Medium', 'Low', 'Low', 'Obese', 'Low', 'Very_High', 0], ['Very_High', 'High', 'High', 'Low', 'Low', 'Obese', 'High', 'High', 1], ['Very_High', 'High', 'Very_High', 'Low', 'High', 'Obese2', 'Low', 'High', 1], ['Medium', 'Medium', 'Very_High', 'Low', 'Very_High', 'Obese2', 'Medium', 'Low', 0], ['Very_High', 'High', 'Medium', 'Medium', 'High', 'Obese2', 'Low', 'Medium', 1], ['High', 'Low', 'Low', 'Low', 'Medium', 'OverWeight', 'Low', 'Low', 0], ['Low', 'Medium', 'Low', 'Low', 'Medium', 'Normal', 'Low', 'Low', 0], ['Medium', 'Medium', 'Medium', 'Low', 'High', 'Obese', 'Low', 'Low', 0], ['Low', 'High', 'Low', 'Low', 'Obese2', 'Medium', 'Low', nan, 1], ['Low', 'Medium', 'Medium', 'Low', 'Medium', 'Obese', 'Low', 'Low', 0], ['Medium', 'High', 'Medium', 'Medium', 'Very_High', 'Obese2', 'Very_High', 'Low', 1], ['Medium', 'High', 'Medium', 'Low', 'Very_High', 'Obese', 'Medium', 'Low', 0], ['High', 'Low', 'Medium', 'Low', 'Low', 'OverWeight', 'Low', 'Low', 0], ['Low', 'Medium', 'Low', 'Low', 'Low', 'OverWeight', 'Low', 'Low', 0], ['Very_High', 'Medium', 'Medium', 'Low', 'Low', 'OverWeight', 'Medium', 'Medium', 1], ['Medium', 'Low', 'Medium', 'Low', 'Medium', 'OverWeight', 'Low', 'Low', 0], ['Very_High', 'Low', 'Medium', 'Low', 'Medium', 'Obese2', 'Low', 'Medium', 0], ['Low', 'Medium', 'High', 'Low', 'Very_High', 'Obese2', 'Medium', 'Low', 1], ['High', 'High', 'Medium', 'Low', 'Low', 'Obese', 'Medium', 'Medium', 1], ['High', 'High', 'Very_High', 'Low', 'Low', 'Obese2', 'Low', 'Medium', 1], ['High', 'Medium', 'Low', 'Low', 'Very_High', 'OverWeight', 'High', 'Medium', 1], ['Very_High', 'Medium', 'Medium', 'Low', 'Low', 'Normal', 'Medium', 'Medium', 0], ['Very_High', 'High', 'Very_High', 'Low', 'Low', 'Obese', 'Low', 'Medium', 0], ['Low', 'High', 'Medium', 'Low', 'Very_High', 'Obese2', 'High', 'High', 0], ['Medium', 'High', 'Medium', 'Low', 'Very_High', 'Obese2', 'Low', 'Medium', 1], ['High', 'Low', 'Medium', 'Low', 'Low', 'OverWeight', 'High', 'Medium', 1], ['Very_High', 'High', 'Medium', 'Medium', 'High', 'Obese2', 'Medium', 'Medium', 1], ['Low', 'Low', 'Medium', 'Low', 'High', 'OverWeight', 'Medium', 'Low', 0], ['High', 'High', 'Medium', 'Low', 'Low', 'Obese', 'Low', 'High', 1], ['High', 'Low', 'Medium', 'Low', 'Low', 'OverWeight', 'Low', 'Medium', 0], ['Medium', 'Medium', 'Low', 'Low', 'High', 'Obese2', 'Medium', 'Low', 0], ['High', 'High', 'Medium', 'Low', 'Very_High', 'Obese', 'Low', 'Low', 0], ['Medium', 'Low', 'Medium', 'Low', 'Low', 'Normal', 'Low', 'Low', 0], ['High', 'Low', 'Very_High', 'Low', 'Medium', 'Obese2', 'Low', 'Low', 0], ['Very_High', 'High', 'Very_High', 'Low', 'Very_High', 'Obese', 'Low', 'Medium', 1], ['Very_High', 'Medium', 'Medium', 'Low', 'Low', 'Obese', 'Medium', 'High', 1], ['Medium', 'Medium', 'Medium', 'Medium', 'Very_High', 'Obese', 'Medium', 'Low', 1], ['Medium', 'Medium', 'Medium', 'Low', 'High', 'OverWeight', 'Low', 'Low', 0], ['Low', 'High', 'Medium', 'Medium', 'Very_High', 'Obese2', 'Medium', 'Low', 1], ['Low', 'Low', 'Medium', 'Low', 'Medium', 'OverWeight', 'Low', 'Low', 0], ['Low', 'High', 'Medium', 'Low', 'Low', 'Obese2', 'High', 'Medium', 1], ['Low', 'Medium', 'Medium', 'Low', 'Very_High', 'Obese2', 'Low', 'Low', 0], ['Medium', 'Medium', 'High', 'Low', 'High', 'Obese2', 'Low', 'Low', 1], ['High', 'High', 'Extremely_High', 'Low', 'Low', 'OverWeight', 'Medium', 'Medium', 0], ['Medium', 'Medium', 'Low', 'Low', 'Normal', 'Medium', 'Very_High', nan, 0], ['High', 'High', 'Low', 'Low', 'OverWeight', 'Low', 'Medium', nan, 1], ['Very_High', 'High', 'Medium', 'Low', 'Low', 'Obese', 'Low', 'Medium', 1], ['High', 'High', 'Medium', 'Low', 'High', 'Obese2', 'Medium', 'Low', 0], ['High', 'Medium', 'Medium', 'Low', 'Low', 'Obese', 'Low', 'Medium', 1], ['Low', 'Low', 'Medium', 'Low', 'Medium', 'Normal', 'Low', 'Low', 0], ['Very_High', 'High', 'High', 'Low', 'Low', 'Obese2', 'Low', 'Medium', 1], ['Medium', 'Low', 'Medium', 'Low', 'Medium', 'OverWeight', 'Low', 'Low', 0], ['Low', 'High', 'Very_High', 'Low', 'Low', 'Obese2', 'Low', 'Low', 1], ['Medium', 'Low', 'Medium', 'Low', 'Medium', 'Obese', 'Medium', 'Low', 0], ['Low', 'High', 'Medium', 'Low', 'Low', 'Normal', 'Low', 'Low', 0], ['Very_High', 'Medium', 'Medium', 'Low', 'Low', 'OverWeight', 'Low', 'Low', 1], ['Medium', 'Low', 'Medium', 'Low', 'Low', 'OverWeight', 'Medium', 'Low', 0], ['Medium', 'High', 'Medium', 'Low', 'Low', 'Normal', 'Low', 'Medium', 0], ['Very_High', 'Medium', 'Very_High', 'Low', 'Low', 'Obese2', 'Low', 'High', 1], ['Very_High', 'High', 'Medium', 'Low', 'High', 'Obese2', 'Low', 'Medium', 1], ['Low', 'Low', 'Medium', 'Low', 'Medium', 'Obese', 'Low', 'Low', 0], ['Low', 'Low', 'Medium', 'Low', 'Medium', 'Obese2', 'Low', 'Low', 0], ['High', 'High', 'Medium', 'Low', 'Low', 'Obese', 'Medium', 'High', 1], ['Low', 'Medium', 'High', 'Low', 'High', 'Obese', 'Low', 'Medium', 1], ['Medium', 'Low', 'Medium', 'Low', 'Obese2', 'Low', 'Low', nan, 0], ['Low', 'High', 'Medium', 'Low', 'Very_High', 'Obese2', 'Medium', 'Low', 0], ['High', 'Medium', 'Very_High', 'Low', 'Low', 'Obese2', 'Low', 'Medium', 0], ['Very_High', 'Medium', 'Medium', 'Low', 'Very_High', 'OverWeight', 'Low', 'Medium', 0], ['Medium', 'High', 'High', 'Low', 'Low', 'Normal', 'Low', 'Low', 0], ['Medium', 'High', 'Low', 'Very_High', 'Obese2', 'Low', 'Low', nan, 1], ['Very_High', 'High', 'Medium', 'Low', 'High', 'Obese2', 'Medium', 'High', 1], ['Very_High', 'High', 'Medium', 'Low', 'High', 'OverWeight', 'Low', 'High', 1], ['High', 'Low', 'Medium', 'Low', 'Low', 'Obese2', 'Low', 'Low', 0], ['High', 'Low', 'Medium', 'Low', 'Medium', 'Normal', 'Low', 'Low', 0], ['Very_High', 'High', 'Medium', 'Low', 'Very_High', 'Obese2', 'Medium', 'Medium', 1], ['Medium', 'Low', 'Medium', 'Low', 'Medium', 'Normal', 'Low', 'Low', 0], ['Medium', 'Medium', 'Medium', 'Low', 'Low', 'OverWeight', 'Low', 'Low', 0], ['Low', 'High', 'Low', 'Low', 'Very_High', 'OverWeight', 'Low', 'Low', 0], ['High', 'Low', 'Medium', 'Low', 'Low', 'Normal', 'Low', 'Low', 0], ['High', 'Low', 'Medium', 'Low', 'High', 'Obese', 'Low', 'High', 0], ['High', 'Medium', 'Medium', 'Low', 'High', 'Obese', 'Medium', 'Low', 1], ['Medium', 'Low', 'Medium', 'Low', 'Medium', 'OverWeight', 'Low', 'Medium', 0], ['Low', 'Medium', 'Medium', 'Low', 'Low', 'Obese2', 'Low', 'Low', 0], ['Low', 'Low', 'Low', 'Low', 'Low', 'Normal', 'Low', 'Low', 0], ['Low', 'High', 'High', 'Low', 'Low', 'Obese', 'Medium', 'Medium', 1], ['High', 'High', 'Medium', 'Low', 'Low', 'Normal', 'Low', 'High', 1], ['Low', 'Low', 'Medium', 'Low', 'Medium', 'OverWeight', 'Medium', 'Low', 0], ['Low', 'Medium', 'Very_High', 'Low', 'Low', 'Obese', 'Low', 'High', 0], ['High', 'High', 'Very_High', 'Low', 'Low', 'Obese2', 'Low', 'Very_High', 1], ['Very_High', 'Medium', 'Medium', 'Low', 'Low', 'Normal', 'High', 'High', 0], ['Medium', 'Low', 'Medium', 'Low', 'Low', 'Obese2', 'Low', 'Low', 0], ['Low', 'High', 'Medium', 'Low', 'High', 'Normal', 'Low', 'Low', 0], ['Low', 'Medium', 'Low', 'Low', 'Low', 'OverWeight', 'Low', 'Low', 0], ['Low', 'High', 'Medium', 'Low', 'High', 'OverWeight', 'Low', 'Medium', 1], ['High', 'High', 'Medium', 'Low', 'Very_High', 'Obese2', 'High', 'High', 1], ['Very_High', 'High', 'Medium', 'Low', 'High', 'Obese', 'Medium', 'Medium', 1], ['High', 'Low', 'Low', 'Low', 'Low', 'Obese', 'Medium', 'Low', 0], ['High', 'Low', 'Medium', 'Low', 'Low', 'Obese', 'Low', 'Medium', 1], ['Very_High', 'High', 'High', 'Low', 'High', 'Obese', 'High', 'Medium', 1], ['Low', 'Medium', 'Medium', 'Low', 'High', 'Obese', 'Low', 'Low', 0], ['Medium', 'Low', 'Low', 'Low', 'UnderWeight', 'Low', 'Low', nan, 0], ['Low', 'Low', 'Low', 'Low', 'Low', 'Normal', 'Low', 'Low', 0], ['High', 'High', 'Medium', 'Low', 'Very_High', 'Obese', 'Medium', 'Low', 1], ['High', 'High', 'High', 'Low', 'High', 'Obese', 'Medium', 'Low', 0], ['Very_High', 'High', 'Very_High', 'Low', 'Low', 'Obese2', 'Low', 'Medium', 1], ['High', 'Low', 'Medium', 'Low', 'Low', 'Obese2', 'Low', 'Medium', 1], ['High', 'High', 'Medium', 'Low', 'Low', 'Obese', 'Medium', 'Low', 1], ['Medium', 'High', 'Medium', 'Low', 'High', 'OverWeight', 'Low', 'Low', 1], ['Low', 'Medium', 'Medium', 'Low', 'Medium', 'Normal', 'Low', 'Low', 0], ['Medium', 'Low', 'Medium', 'Low', 'Low', 'Obese2', 'Medium', 'Low', 0], ['Medium', 'Medium', 'Medium', 'Low', 'High', 'Obese', 'Medium', 'Low', 0], ['Low', 'Medium', 'Low', 'Low', 'High', 'Normal', 'Low', 'Low', 0], ['High', 'Low', 'Medium', 'Low', 'Low', 'Obese2', 'Low', 'High', 1], ['Medium', 'Medium', 'Low', 'Low', 'High', 'Obese', 'Low', 'Low', 0], ['Medium', 'Low', 'Medium', 'Low', 'Medium', 'Obese', 'Medium', 'Low', 0], ['Medium', 'Medium', 'Low', 'Low', 'Obese2', 'Medium', 'Low', nan, 0], ['High', 'Low', 'Medium', 'Low', 'Medium', 'Obese2', 'Low', 'Medium', 0], ['Low', 'High', 'Medium', 'Low', 'Low', 'Obese2', 'High', 'Low', 1], ['High', 'Medium', 'Medium', 'Low', 'Medium', 'Obese', 'Low', 'Medium', 0], ['Low', 'Medium', 'Medium', 'Low', 'Low', 'Normal', 'Low', 'Low', 0], ['High', 'High', 'Medium', 'Low', 'Very_High', 'Obese2', 'Low', 'High', 1], ['Low', 'Medium', 'Low', 'Low', 'High', 'Obese', 'Low', 'Low', 0], ['Medium', 'Medium', 'Medium', 'Low', 'Low', 'OverWeight', 'Low', 'Low', 0], ['Low', 'Medium', 'High', 'Medium', 'High', 'High', 'Obese2', 'Medium', 0], ['Medium', 'Medium', 'Very_High', 'Low', 'Low', 'Obese2', 'Medium', 'High', 0], ['Very_High', 'Medium', 'High', 'Low', 'Low', 'Obese2', 'High', 'Medium', 1], ['Very_High', 'Medium', 'Medium', 'Low', 'Low', 'Obese', 'Medium', 'Medium', 1], ['Low', 'Low', 'Medium', 'Low', 'Low', 'OverWeight', 'Low', 'Medium', 0], ['Low', 'Medium', 'Medium', 'Low', 'Low', 'Obese2', 'Low', 'High', 1], ['Low', 'Low', 'Medium', 'Low', 'Medium', 'Obese', 'Low', 'Low', 0], ['Very_High', 'High', 'High', 'Low', 'High', 'Obese', 'Low', 'Medium', 0], ['High', 'Low', 'Medium', 'Low', 'Low', 'Obese2', 'Low', 'Low', 0], ['High', 'Medium', 'Medium', 'Low', 'Low', 'Obese2', 'Low', 'Low', 0], ['Medium', 'Low', 'Medium', 'Low', 'Low', 'Normal', 'Low', 'Low', 0], ['Low', 'Medium', 'High', 'Low', 'Low', 'Obese', 'Low', 'Low', 0], ['Low', 'High', 'Medium', 'Low', 'Very_High', 'Obese2', 'Low', 'Low', 0], ['Medium', 'Low', 'Low', 'Low', 'Medium', 'Obese', 'Medium', 'Low', 0], ['High', 'High', 'High', 'Low', 'Low', 'Obese2', 'Medium', 'Low', 1], ['High', 'Medium', 'Medium', 'Low', 'Low', 'Obese', 'Low', 'Medium', 1], ['Low', 'High', 'Low', 'Low', 'Low', 'OverWeight', 'Medium', 'Very_High', 0], ['Medium', 'Medium', 'Medium', 'Low', 'High', 'OverWeight', 'Medium', 'Low', 0], ['Low', 'Low', 'Low', 'Low', 'Low', 'Normal', 'Low', 'Low', 0], ['Medium', 'High', 'Very_High', 'Low', 'Low', 'Normal', 'Low', 'Low', 0], ['Low', 'Low', 'Low', 'Low', 'Low', 'Normal', 'Low', 'Low', 0], ['High', 'High', 'Medium', 'Low', 'High', 'Obese2', 'Medium', 'Low', 0], ['Low', 'Medium', 'Medium', 'Medium', 'High', 'Obese', 'Low', 'Low', 0], ['Medium', 'Medium', 'Medium', 'Low', 'Very_High', 'Obese', 'Medium', 'Medium', 1], ['Medium', 'High', 'Low', 'Low', 'Obese2', 'Low', 'Medium', nan, 0], ['Medium', 'High', 'Medium', 'Low', 'Very_High', 'Obese2', 'Low', 'Medium', 1], ['Medium', 'Medium', 'Medium', 'Low', 'Low', 'OverWeight', 'Low', 'Low', 0], ['Low', 'High', 'Medium', 'Medium', 'High', 'Obese2', 'Medium', 'Low', 1], ['Low', 'High', 'Medium', 'Low', 'Very_High', 'Obese', 'High', 'Low', 1], ['High', 'Low', 'High', 'Low', 'Low', 'OverWeight', 'Low', 'Medium', 0], ['Low', 'Low', 'Low', 'Low', 'Medium', 'OverWeight', 'Low', 'Low', 0], ['Low', 'Medium', 'Low', 'Low', 'High', 'OverWeight', 'Medium', 'Low', 0], ['High', 'Medium', 'Medium', 'Low', 'Low', 'OverWeight', 'Low', 'Medium', 0], ['High', 'High', 'Medium', 'Low', 'Low', 'Obese2', 'Medium', 'Very_High', 1], ['Low', 'Low', 'Medium', 'Low', 'Low', 'Obese2', 'Low', 'Low', 0], ['Very_High', 'High', 'Medium', 'Low', 'High', 'Obese2', 'Low', 'Medium', 0], ['High', 'High', 'Medium', 'Low', 'Low', 'Obese', 'Low', 'Medium', 1], ['Low', 'High', 'Medium', 'Low', 'Very_High', 'Obese2', 'Low', 'Low', 0], ['Low', 'High', 'Medium', 'Low', 'Very_High', 'Obese2', 'Medium', 'Low', 0], ['Very_High', 'Low', 'Medium', 'Low', 'Low', 'Obese2', 'Medium', 'Very_High', 0], ['Low', 'Medium', 'Medium', 'Low', 'Low', 'OverWeight', 'Low', 'Medium', 1], ['Very_High', 'High', 'Medium', 'Low', 'Very_High', 'Obese', 'Medium', 'Very_High', 1], ['Medium', 'High', 'Medium', 'Low', 'Very_High', 'Obese2', 'Low', 'Low', 0], ['Medium', 'Medium', 'Low', 'Low', 'High', 'Obese2', 'Low', nan, 0], ['Medium', 'Low', 'Medium', 'Low', 'Medium', 'Obese2', 'Medium', 'Low', 0], ['Medium', 'Low', 'Medium', 'Low', 'Low', 'Normal', 'Low', 'Low', 0], ['Low', 'Medium', 'Medium', 'Low', 'Low', 'OverWeight', 'Low', 'Low', 0], ['Low', 'High', 'Medium', 'Low', 'Low', 'Obese', 'Low', 'Low', 0], ['Low', 'Medium', 'Medium', 'Low', 'Medium', 'Obese2', 'Low', 'Low', 0], ['Medium', 'Medium', 'Medium', 'Low', 'Low', 'Obese', 'Low', 'Low', 0], ['Medium', 'Medium', 'Medium', 'Low', 'Very_High', 'OverWeight', 'Medium', 'Low', 0], ['Very_High', 'High', 'Medium', 'Low', 'Very_High', 'Obese2', 'Medium', 'High', 1], ['Very_High', 'High', 'Medium', 'Low', 'Low', 'OverWeight', 'Low', 'Medium', 0], ['Very_High', 'Medium', 'Medium', 'Low', 'Low', 'Obese', 'Low', 'Medium', 0], ['Very_High', 'Medium', 'Medium', 'Low', 'Low', 'OverWeight', 'High', 'High', 1], ['Low', 'High', 'Medium', 'Low', 'Very_High', 'Obese', 'High', 'Low', 1], ['Low', 'High', 'Medium', 'Low', 'Low', 'Obese', 'Low', 'High', 1], ['Medium', 'High', 'Medium', 'Low', 'Medium', 'Obese', 'Low', 'Low', 0], ['High', 'High', 'Medium', 'Low', 'Very_High', 'Obese', 'Low', 'High', 1], ['Low', 'Medium', 'Medium', 'Low', 'Medium', 'Normal', 'Medium', 'Low', 0], ['Low', 'Medium', 'Low', 'Low', 'OverWeight', 'Medium', 'Very_High', nan, 1], ['High', 'High', 'Medium', 'Low', 'Low', 'Obese2', 'Low', 'High', 0], ['High', 'High', 'Medium', 'Low', 'Low', 'OverWeight', 'Low', 'Medium', 0], ['High', 'Medium', 'Low', 'Low', 'UnderWeight', 'Low', 'Low', nan, 0], ['High', 'High', 'Low', 'Very_High', 'Obese2', 'Low', 'Low', nan, 1], ['Low', 'Medium', 'Very_High', 'Low', 'Low', 'OverWeight', 'Low', 'High', 0], ['Low', 'Medium', 'Medium', 'Low', 'Medium', 'Obese2', 'Medium', 'Low', 1], ['Very_High', 'High', 'Extremely_High', 'Low', 'Very_High', 'Obese2', 'Medium', 'High', 1], ['Medium', 'Low', 'Low', 'Low', 'Normal', 'Low', 'Low', nan, 0], ['Medium', 'High', 'Medium', 'Low', 'High', 'Obese', 'Low', 'Low', 1], ['Very_High', 'Medium', 'Medium', 'Low', 'Low', 'OverWeight', 'Low', 'High', 0], ['Medium', 'Medium', 'Medium', 'Low', 'Low', 'Normal', 'Medium', 'High', 0], ['High', 'Medium', 'Very_High', 'Low', 'Low', 'Obese2', 'Low', 'Low', 1], ['Medium', 'Medium', 'Medium', 'Low', 'High', 'Obese', 'Low', 'Low', 0], ['Medium', 'High', 'Medium', 'Low', 'Low', 'Obese', 'Low', 'Low', 1], ['Low', 'Low', 'Medium', 'Low', 'Low', 'Obese', 'Low', 'Low', 0], ['Very_High', 'Medium', 'Low', 'Low', 'Low', 'Obese', 'High', 'Medium', 1], ['High', 'Low', 'Low', 'Low', 'Normal', 'Low', 'Low', nan, 0], ['Very_High', 'High', 'Very_High', 'Low', 'Low', 'Obese', 'Low', 'Very_High', 0], ['Low', 'Medium', 'Medium', 'Low', 'Low', 'UnderWeight', 'Medium', 'Low', 0], ['Medium', 'High', 'Low', 'Low', 'Low', 'Obese', 'Low', 'Low', 0], ['Very_High', 'Low', 'Low', 'Low', 'Obese2', 'Low', 'High', nan, 0], ['High', 'Medium', 'Very_High', 'Low', 'Low', 'OverWeight', 'Low', 'Medium', 0], ['High', 'High', 'Medium', 'Low', 'Low', 'Obese2', 'Low', 'Low', 1], ['High', 'Medium', 'Medium', 'Low', 'Low', 'Obese2', 'Low', 'Medium', 0], ['Very_High', 'High', 'Extremely_High', 'Low', 'Low', 'Obese2', 'Low', 'Medium', 1], ['Medium', 'High', 'Very_High', 'Medium', 'High', 'Obese2', 'Medium', 'Medium', 1], ['Very_High', 'Medium', 'Medium', 'Low', 'High', 'Normal', 'Low', 'Medium', 0], ['Very_High', 'High', 'Medium', 'Low', 'Low', 'Obese', 'Low', 'Medium', 0], ['High', 'High', 'Medium', 'Low', 'Very_High', 'Obese2', 'Very_High', 'Medium', 0], ['High', 'Medium', 'Medium', 'Low', 'Low', 'OverWeight', 'Low', 'Low', 0], ['Medium', 'Medium', 'Medium', 'Low', 'Medium', 'OverWeight', 'Low', 'Low', 0], ['Very_High', 'Medium', 'Medium', 'Low', 'Medium', 'Normal', 'Medium', 'High', 0], ['High', 'Medium', 'Medium', 'Low', 'High', 'OverWeight', 'Low', 'Low', 0], ['Very_High', 'Medium', 'Medium', 'Low', 'Very_High', 'OverWeight', 'Medium', 'High', 1], ['Low', 'High', 'Extremely_High', 'Medium', 'High', 'Obese2', 'Low', 'Low', 1], ['Medium', 'Medium', 'Medium', 'Low', 'High', 'Obese2', 'Low', 'Low', 0], ['Medium', 'Low', 'Low', 'Low', 'Medium', 'OverWeight', 'Low', 'Low', 0], ['Medium', 'Medium', 'Medium', 'Low', 'Low', 'OverWeight', 'Low', 'Medium', 0], ['High', 'High', 'Very_High', 'Low', 'Low', 'Obese2', 'High', 'High', 0], ['Low', 'High', 'Very_High', 'Low', 'Low', 'Obese', 'Low', 'Medium', 1], ['High', 'Medium', 'Medium', 'Low', 'Very_High', 'Obese', 'Low', 'Medium', 0], ['Very_High', 'High', 'Medium', 'Low', 'Low', 'Obese2', 'Low', 'Medium', 1], ['Medium', 'High', 'Low', 'Low', 'High', 'OverWeight', 'Medium', 'Low', 0], ['Medium', 'High', 'High', 'Low', 'High', 'Obese2', 'Medium', 'Low', 1], ['Low', 'High', 'Low', 'Low', 'Obese2', 'Low', 'Low', nan, 1], ['Medium', 'High', 'Medium', 'Medium', 'Very_High', 'Obese', 'Low', 'High', 1], ['High', 'Low', 'Medium', 'Low', 'Low', 'Obese2', 'Low', 'Low', 0], ['Medium', 'Medium', 'Low', 'Low', 'Medium', 'OverWeight', 'Low', 'Low', 0], ['Very_High', 'Medium', 'Low', 'Low', 'UnderWeight', 'Low', 'Low', nan, 0], ['Very_High', 'High', 'High', 'Low', 'Low', 'Obese', 'Low', 'High', 1], ['High', 'High', 'Medium', 'Low', 'High', 'Obese', 'Low', 'Medium', 0], ['Medium', 'Medium', 'Low', 'Low', 'Low', 'OverWeight', 'Low', 'Low', 0], ['Low', 'Low', 'Medium', 'Low', 'Medium', 'Obese2', 'Medium', 'Low', 0], ['Very_High', 'High', 'Medium', 'Low', 'Low', 'OverWeight', 'Low', 'Medium', 0], ['Very_High', 'High', 'Medium', 'Low', 'Low', 'Normal', 'Medium', 'Medium', 1], ['Low', 'Low', 'Medium', 'Low', 'Medium', 'Obese2', 'High', 'Medium', 0], ['Medium', 'Medium', 'Medium', 'Low', 'Medium', 'Obese', 'Medium', 'Low', 0], ['Medium', 'Low', 'Low', 'Low', 'Medium', 'Normal', 'Low', 'Low', 0], ['Medium', 'High', 'Medium', 'Low', 'Low', 'OverWeight', 'Low', 'Low', 0], ['Low', 'Medium', 'Medium', 'Low', 'Medium', 'Obese2', 'Low', 'Low', 0], ['Low', 'High', 'Very_High', 'Low', 'Low', 'Obese2', 'Medium', 'Low', 1], ['Low', 'Low', 'Medium', 'Medium', 'Medium', 'Obese', 'Low', 'Low', 0], ['High', 'Medium', 'Medium', 'Low', 'Low', 'Obese2', 'Medium', 'Very_High', 0], ['Low', 'Low', 'Low', 'Low', 'OverWeight', 'Low', 'Low', nan, 0], ['Medium', 'High', 'Medium', 'Low', 'Low', 'Obese', 'Low', 'Low', 0], ['High', 'Low', 'Medium', 'Low', 'Low', 'Obese', 'Medium', 'Low', 0], ['High', 'Low', 'Low', 'Low', 'OverWeight', 'Medium', 'Medium', nan, 0], ['High', 'Low', 'Low', 'Low', 'Medium', 'OverWeight', 'Low', 'Low', 0], ['Medium', 'High', 'Medium', 'Low', 'High', 'OverWeight', 'Low', 'Medium', 1], ['Very_High', 'High', 'Low', 'Low', 'Obese2', 'Medium', 'Medium', nan, 0], ['Very_High', 'Medium', 'Medium', 'Low', 'Low', 'OverWeight', 'Low', 'Medium', 1], ['High', 'High', 'Medium', 'Low', 'Low', 'Obese', 'High', 'Low', 1], ['High', 'High', 'Very_High', 'Low', 'Very_High', 'Normal', 'Medium', 'Very_High', 0], ['Very_High', 'Medium', 'Low', 'Low', 'Obese', 'Low', 'Medium', nan, 1], ['Medium', 'Low', 'Medium', 'Low', 'High', 'Obese', 'Medium', 'Low', 0], ['Medium', 'Medium', 'Medium', 'Low', 'Low', 'Obese2', 'Low', 'Low', 0], ['Medium', 'High', 'Medium', 'Low', 'Very_High', 'Obese', 'Medium', 'Low', 1], ['High', 'Medium', 'Medium', 'Low', 'Low', 'Normal', 'Medium', 'High', 0], ['Medium', 'Medium', 'Medium', 'Low', 'Low', 'OverWeight', 'Low', 'Low', 0], ['Medium', 'Medium', 'Low', 'Low', 'Medium', 'OverWeight', 'Medium', 'Low', 0], ['High', 'Medium', 'Medium', 'Low', 'Low', 'OverWeight', 'Low', 'High', 1], ['Low', 'Medium', 'Medium', 'Low', 'Very_High', 'Obese', 'Low', 'Medium', 0], ['Very_High', 'Medium', 'Medium', 'Low', 'Low', 'Obese', 'Low', 'Medium', 1], ['High', 'Low', 'Medium', 'Low', 'Medium', 'Obese', 'Low', 'Low', 0], ['Low', 'Low', 'Medium', 'Low', 'High', 'Obese2', 'Low', 'Low', 0]]\n"
     ]
    }
   ],
   "source": [
    "from sklearn.model_selection import train_test_split\n",
    "df = pd.read_csv('result.csv')\n",
    "Y = df['Outcome']\n",
    "traindf, testdf, y1, y2 = train_test_split(df,Y,test_size=0.30, random_state=17)\n",
    "base = traindf.values.tolist()\n",
    "test = testdf.values.tolist()\n",
    "print(len(base))\n",
    "print(base)"
   ]
  },
  {
   "cell_type": "code",
   "execution_count": 16,
   "metadata": {},
   "outputs": [
    {
     "name": "stdout",
     "output_type": "stream",
     "text": [
      "done A\n",
      "done B\n",
      "done C\n",
      "8.545014381408691\n"
     ]
    }
   ],
   "source": [
    "import time\n",
    "start = time.time()\n",
    "A = caculateA(base)\n",
    "M = caculateM(base)\n",
    "B = caculateB(base,A,M)\n",
    "C = caculateC(base,B)\n",
    "totalTime = time.time() - start\n",
    "print(totalTime)"
   ]
  },
  {
   "cell_type": "code",
   "execution_count": 17,
   "metadata": {},
   "outputs": [],
   "source": [
    "# dfC = pd.DataFrame(C)\n",
    "# dfC.to_csv('C.csv',index=False)\n",
    "# traindf.to_csv('train.csv',index=False)\n",
    "# testdf.to_csv('test.csv',index=False)"
   ]
  },
  {
   "cell_type": "code",
   "execution_count": 18,
   "metadata": {},
   "outputs": [
    {
     "name": "stdout",
     "output_type": "stream",
     "text": [
      "[71.0]\n"
     ]
    }
   ],
   "source": [
    "listAcc = []\n",
    "listPre = []\n",
    "listRe = []\n",
    "timeTest = []\n",
    "timeUpdate = []\n",
    "listRank = []\n",
    "res = []\n",
    "testAccuracy(base,test,C)\n",
    "print(listAcc)"
   ]
  },
  {
   "cell_type": "code",
   "execution_count": 19,
   "metadata": {},
   "outputs": [
    {
     "name": "stdout",
     "output_type": "stream",
     "text": [
      "0.0    209\n",
      "1.0     22\n",
      "Name: count, dtype: int64\n",
      "Outcome\n",
      "0    350\n",
      "1    187\n",
      "Name: count, dtype: int64\n",
      "Outcome\n",
      "0    150\n",
      "1     81\n",
      "Name: count, dtype: int64\n",
      "0.765209    8\n",
      "0.865015    8\n",
      "0.665460    5\n",
      "0.865341    4\n",
      "0.639450    4\n",
      "           ..\n",
      "0.824900    1\n",
      "0.825075    1\n",
      "0.825271    1\n",
      "0.837024    1\n",
      "0.849737    1\n",
      "Name: count, Length: 168, dtype: int64\n",
      "231\n"
     ]
    }
   ],
   "source": [
    "print(pd.DataFrame(res[0]).value_counts())\n",
    "print(traindf['Outcome'].value_counts())\n",
    "print(testdf['Outcome'].value_counts())\n",
    "print(pd.DataFrame(listRank).value_counts())\n",
    "print(len(listRank))"
   ]
  },
  {
   "cell_type": "code",
   "execution_count": 20,
   "metadata": {},
   "outputs": [
    {
     "name": "stdout",
     "output_type": "stream",
     "text": [
      "[71.0]\n"
     ]
    }
   ],
   "source": [
    "print(listAcc)"
   ]
  }
 ],
 "metadata": {
  "kernelspec": {
   "display_name": "selenium",
   "language": "python",
   "name": "python3"
  },
  "language_info": {
   "codemirror_mode": {
    "name": "ipython",
    "version": 3
   },
   "file_extension": ".py",
   "mimetype": "text/x-python",
   "name": "python",
   "nbconvert_exporter": "python",
   "pygments_lexer": "ipython3",
   "version": "3.9.18"
  }
 },
 "nbformat": 4,
 "nbformat_minor": 2
}
