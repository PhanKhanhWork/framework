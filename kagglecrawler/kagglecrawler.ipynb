{
 "cells": [
  {
   "cell_type": "code",
   "execution_count": 1,
   "metadata": {},
   "outputs": [],
   "source": [
    "import json\n",
    "import pandas as pd \n",
    "import datadotworld as dw\n",
    "import os\n",
    "import pandas as pd \n",
    "from zipfile import ZipFile \n",
    "f = open('link.txt','r')\n",
    "Lines = f.readlines()\n",
    "link = []\n",
    "\n",
    "for i in range(len(Lines)):\n",
    "    if i%2 == 0:\n",
    "        link.append((Lines[i]).replace('\\n', ''))\n",
    "\n"
   ]
  },
  {
   "cell_type": "code",
   "execution_count": 2,
   "metadata": {},
   "outputs": [
    {
     "name": "stdout",
     "output_type": "stream",
     "text": [
      "['akshaydattatraykhare/diabetes-dataset', 'mathchi/diabetes-data-set', 'uciml/pima-indians-diabetes-database', 'whenamancodes/predict-diabities', 'imtkaggleteam/diabetes', 'iammustafatz/diabetes-prediction-dataset', 'salihacur/diabetes', 'alexteboul/diabetes-health-indicators-dataset', 'johndasilva/diabetes', 'joebeachcapital/diabetes-factors', 'vikasukani/diabetes-data-set', 'nancyalaswad90/review', 'nanditapore/healthcare-diabetes', 'prosperchuks/health-dataset', 'andrewmvd/early-diabetes-classification', 'julnazz/diabetes-health-indicators-dataset', 'brandao/diabetes', 'jillanisofttech/diabetes-disease-updated-dataset', 'aemyjutt/diabetesdataanslysis', 'tigganeha4/diabetes-dataset-2019', 'mahnazarjmand/diabetes', 'shantanudhakadd/diabetes-dataset-for-beginners', 'aravindpcoder/diabetes-dataset', 'willianoliveiragibin/diabetesdataanslysis', 'alakaaay/diabetes-uci-dataset', 'sujithmandala/easiest-diabetes-classification-dataset', 'gargmanas/pima-indians-diabetes', 'ishandutta/early-stage-diabetes-risk-prediction-dataset', 'saurabh00007/diabetescsv', 'jimschacko/10-years-diabetes-dataset', 'kumargh/pimaindiansdiabetescsv', 'pritsheta/diabetes-dataset', 'ashishkumarjayswal/diabetes-dataset', 'deependraverma13/diabetes-healthcare-comprehensive-dataset', 'piyushborhade/diabetes-dataset', 'arezalo/diabetes', 'houcembenmansour/predict-diabetes-based-on-diagnostic-measures', 'pkdarabi/diabetes-dataset-with-18-features', 'codina/raman-spectroscopy-of-diabetes', 'himanshunakrani/naive-bayes-classification-data', 'pentakrishnakishore/diabetes-csv', 'pushprajnamdev/diabetes-dataset', 'wanglaiqi/pimaindiansdiabetesdata', 'tanshihjen/early-stage-diabetes-risk-prediction', 'meirnizri/covid19-dataset', 'hashemi221022/diabetes', 'faysalislam/diabetes', 'alrznorz/diabetes', 'wawajahat/diabetes-dataset-by-age-standardized-countries', 'sztuanakurun/diabates', 'fathyfathysahlool/diabetes', 'rahulsah06/machine-learning-for-diabetes-with-python', 'andrewmvd/heart-failure-clinical-data', 'veerukhannan/diabetes', 'sreshta140/diabetes', 'mohamedelnahry/diabetes', 'tanavbajaj/diabetes-subreddits-data-weekly-update', 'dubradave/hospital-readmissions', 'jamaltariqcheema/pima-indians-diabetes-dataset', 'abdulrahmanelbanna/diabetes', 'mohith2409/diabetes', 'mahdiehhajian/diabetes-prevalence', 'ruchi798/stress-analysis-in-social-media', 'gauravduttakiit/diabetes', 'edubrq/diabetes', 'andrewmvd/ocular-disease-recognition-odir5k', 'antimoni/metabolic-syndrome', 'furkannakdagg/diabetes', 'girishvutukuri/diabetes-binary-classification', 'kandij/diabetes-dataset', 'GoogleNewsLab/health-searches-us-county', 'pavansanagapati/pima-diabetes', 'themrityunjaypathak/covid-cases-and-deaths-worldwide', 'cloudkaustav/pima-indian-diabetes-eda', 'bhavikjikadara/heart-failure-prediction', 'pocooo/diabetes', 'danushkumarv/diabetes-dataset', 'sandeepgauti/diabetes-prediction', 'zohrehtofighizavareh/diabetes-dataset', 'joniarroba/noshowappointments', 'yasserhessein/early-stage-diabetes-risk-prediction-dataset', 'sujan97/early-stage-diabetes-2020', 'yossefazam/diabetes', 'rishabhm76/pima-diabetes-database', 'mragpavank/diabetes', 'suryadeepti/diabetes', 'rajakali/diabetesknn', 'deepikaarikesavan/diabetes', 'arronlacey/diabetes', 'meeratif/diabetes-specific-data-all-countries', 'kamyababedi/visceral-adipose', 'blackbee2016/6-months-daily-diabetes-history', 'ealtintas/uci-machine-learning-repository-diabetes-data-set', 'spdsou/diabetes-prediction', 'anakha27/diabetes-prediction1', 'fedesoriano/heart-failure-prediction', 'asel98/diabetes-dataset', 'iamsouravbanerjee/cause-of-deaths-around-the-world', 'fmendes/diabetes-from-dat263x-lab01', 'arezalo/sample-dataset-of-diabetes']\n"
     ]
    }
   ],
   "source": [
    "print((link))\n"
   ]
  },
  {
   "cell_type": "code",
   "execution_count": 3,
   "metadata": {},
   "outputs": [
    {
     "name": "stdout",
     "output_type": "stream",
     "text": [
      "kaggle datasets download akshaydattatraykhare/diabetes-dataset -p kaggle/akshaydattatraykhare\n",
      "kaggle datasets download mathchi/diabetes-data-set -p kaggle/mathchi\n",
      "kaggle datasets download uciml/pima-indians-diabetes-database -p kaggle/uciml\n",
      "kaggle datasets download whenamancodes/predict-diabities -p kaggle/whenamancodes\n",
      "kaggle datasets download imtkaggleteam/diabetes -p kaggle/imtkaggleteam\n",
      "kaggle datasets download iammustafatz/diabetes-prediction-dataset -p kaggle/iammustafatz\n"
     ]
    },
    {
     "ename": "KeyboardInterrupt",
     "evalue": "",
     "output_type": "error",
     "traceback": [
      "\u001b[1;31m---------------------------------------------------------------------------\u001b[0m",
      "\u001b[1;31mKeyboardInterrupt\u001b[0m                         Traceback (most recent call last)",
      "Cell \u001b[1;32mIn[3], line 5\u001b[0m\n\u001b[0;32m      3\u001b[0m command \u001b[38;5;241m=\u001b[39m \u001b[38;5;124m'\u001b[39m\u001b[38;5;124mkaggle datasets download \u001b[39m\u001b[38;5;132;01m{}\u001b[39;00m\u001b[38;5;124m -p kaggle/\u001b[39m\u001b[38;5;132;01m{}\u001b[39;00m\u001b[38;5;124m'\u001b[39m\u001b[38;5;241m.\u001b[39mformat(link[i],link[i]\u001b[38;5;241m.\u001b[39msplit(\u001b[38;5;124m'\u001b[39m\u001b[38;5;124m/\u001b[39m\u001b[38;5;124m'\u001b[39m)[\u001b[38;5;241m0\u001b[39m])\n\u001b[0;32m      4\u001b[0m \u001b[38;5;28mprint\u001b[39m(command)\n\u001b[1;32m----> 5\u001b[0m \u001b[43mos\u001b[49m\u001b[38;5;241;43m.\u001b[39;49m\u001b[43msystem\u001b[49m\u001b[43m(\u001b[49m\u001b[43mcommand\u001b[49m\u001b[43m)\u001b[49m\n",
      "\u001b[1;31mKeyboardInterrupt\u001b[0m: "
     ]
    }
   ],
   "source": [
    "for i in range(len(link)):\n",
    "    \n",
    "    command = 'kaggle datasets download {} -p kaggle/{}'.format(link[i],link[i].split('/')[0])\n",
    "    print(command)\n",
    "    os.system(command)"
   ]
  },
  {
   "cell_type": "code",
   "execution_count": null,
   "metadata": {},
   "outputs": [
    {
     "name": "stdout",
     "output_type": "stream",
     "text": [
      "diabetes.zip\n",
      "diabetesdataanslysis.zip\n",
      "diabetes-dataset.zip\n",
      "diabetes-uci-dataset.zip\n",
      "diabetes-health-indicators-dataset.zip\n",
      "diabetes.zip\n",
      "diabetes-prediction1.zip\n",
      "early-diabetes-classification.zip\n",
      "heart-failure-clinical-data.zip\n",
      "ocular-disease-recognition-odir5k.zip\n",
      "metabolic-syndrome.zip\n",
      "diabetes-dataset.zip\n",
      "diabetes.zip\n",
      "sample-dataset-of-diabetes.zip\n",
      "diabetes.zip\n",
      "diabetes-dataset.zip\n",
      "diabetes-dataset.zip\n",
      "heart-failure-prediction.zip\n",
      "6-months-daily-diabetes-history.zip\n",
      "diabetes.zip\n",
      "pima-indian-diabetes-eda.zip\n",
      "raman-spectroscopy-of-diabetes.zip\n",
      "diabetes-dataset.zip\n",
      "diabetes-healthcare-comprehensive-dataset.zip\n",
      "diabetes.zip\n",
      "hospital-readmissions.zip\n",
      "uci-machine-learning-repository-diabetes-data-set.zip\n",
      "diabetes.zip\n",
      "diabetes.zip\n",
      "diabetes.zip\n",
      "heart-failure-prediction.zip\n",
      "diabetes-from-dat263x-lab01.zip\n",
      "diabetes.zip\n",
      "pima-indians-diabetes.zip\n",
      "diabetes.zip\n",
      "diabetes-binary-classification.zip\n",
      "health-searches-us-county.zip\n",
      "diabetes.zip\n",
      "naive-bayes-classification-data.zip\n",
      "predict-diabetes-based-on-diagnostic-measures.zip\n",
      "diabetes-prediction-dataset.zip\n",
      "cause-of-deaths-around-the-world.zip\n",
      "diabetes.zip\n",
      "early-stage-diabetes-risk-prediction-dataset.zip\n",
      "pima-indians-diabetes-dataset.zip\n",
      "diabetes-disease-updated-dataset.zip\n",
      "10-years-diabetes-dataset.zip\n",
      "diabetes-factors.zip\n",
      "diabetes.zip\n",
      "noshowappointments.zip\n",
      "diabetes-health-indicators-dataset.zip\n",
      "visceral-adipose.zip\n",
      "diabetes-dataset.zip\n",
      "pimaindiansdiabetescsv.zip\n",
      "diabetes-prevalence.zip\n",
      "diabetes.zip\n",
      "diabetes-data-set.zip\n",
      "diabetes-specific-data-all-countries.zip\n",
      "covid19-dataset.zip\n",
      "diabetes.zip\n",
      "diabetes.zip\n",
      "diabetes.zip\n",
      "review.zip\n",
      "healthcare-diabetes.zip\n",
      "pima-diabetes.zip\n",
      "diabetes-csv.zip\n",
      "diabetes-dataset.zip\n",
      "diabetes-dataset-with-18-features.zip\n",
      "diabetes.zip\n",
      "diabetes-dataset.zip\n",
      "health-dataset.zip\n",
      "diabetes-dataset.zip\n",
      "machine-learning-for-diabetes-with-python.zip\n",
      "diabetesknn.zip\n",
      "pima-diabetes-database.zip\n",
      "stress-analysis-in-social-media.zip\n",
      "diabetes.zip\n",
      "diabetes-prediction.zip\n",
      "diabetescsv.zip\n",
      "diabetes-dataset-for-beginners.zip\n",
      "diabetes-prediction.zip\n",
      "diabetes.zip\n",
      "early-stage-diabetes-2020.zip\n",
      "easiest-diabetes-classification-dataset.zip\n",
      "diabetes.zip\n",
      "diabates.zip\n",
      "diabetes-subreddits-data-weekly-update.zip\n",
      "early-stage-diabetes-risk-prediction.zip\n",
      "covid-cases-and-deaths-worldwide.zip\n",
      "diabetes-dataset-2019.zip\n",
      "pima-indians-diabetes-database.zip\n",
      "diabetes.zip\n",
      "diabetes-data-set.zip\n",
      "pimaindiansdiabetesdata.zip\n",
      "diabetes-dataset-by-age-standardized-countries.zip\n",
      "predict-diabities.zip\n",
      "diabetesdataanslysis.zip\n",
      "early-stage-diabetes-risk-prediction-dataset.zip\n",
      "diabetes.zip\n",
      "diabetes-dataset.zip\n"
     ]
    }
   ],
   "source": [
    "for r, d, f in os.walk('kaggle'):\n",
    "    for file in f:\n",
    "        if file.endswith(\".zip\"):\n",
    "            print(file)\n",
    "            with ZipFile(os.path.join(r, file), 'r') as zObject: \n",
    "                zObject.extractall(path=r) "
   ]
  },
  {
   "cell_type": "code",
   "execution_count": null,
   "metadata": {},
   "outputs": [],
   "source": [
    "\n",
    "fp = open('cols.txt','w')\n",
    "# print(pd.read_csv(dir[0]))\n",
    "# print(len(dir))\n",
    "for root, dir, file in os.walk('kaggle'):\n",
    "    for f in file:\n",
    "        if f.endswith(\".csv\"):\n",
    "            x = (str((pd.read_csv(os.path.join(root,f)).columns).to_list())+'\\n')\n",
    "            fp.write(os.path.join(root,f) + x)"
   ]
  },
  {
   "cell_type": "code",
   "execution_count": null,
   "metadata": {},
   "outputs": [
    {
     "name": "stdout",
     "output_type": "stream",
     "text": [
      "768\n"
     ]
    }
   ],
   "source": [
    "abc = pd.read_csv('kaggle\\\\abdulrahmanelbanna\\diabetes.csv')\n",
    "print(len(abc))"
   ]
  },
  {
   "cell_type": "code",
   "execution_count": null,
   "metadata": {},
   "outputs": [],
   "source": [
    "D = []\n",
    "for root, dir, file in os.walk('kaggle'):\n",
    "    for f in file:\n",
    "        if f.endswith(\".csv\"):\n",
    "            table = pd.read_csv(os.path.join(root,f))\n",
    "            x = ((table.columns).to_list())\n",
    "            x.insert(0,len(table))\n",
    "            x.insert(0,os.path.join(root,f).split('kaggle\\\\')[-1])\n",
    "            D.append(x)\n",
    "\n",
    "dfx = pd.DataFrame(D)\n",
    "dfx.to_excel('atributes.xlsx', encoding='utf8')"
   ]
  }
 ],
 "metadata": {
  "kernelspec": {
   "display_name": "selenium",
   "language": "python",
   "name": "python3"
  },
  "language_info": {
   "codemirror_mode": {
    "name": "ipython",
    "version": 3
   },
   "file_extension": ".py",
   "mimetype": "text/x-python",
   "name": "python",
   "nbconvert_exporter": "python",
   "pygments_lexer": "ipython3",
   "version": "3.9.18"
  }
 },
 "nbformat": 4,
 "nbformat_minor": 2
}
