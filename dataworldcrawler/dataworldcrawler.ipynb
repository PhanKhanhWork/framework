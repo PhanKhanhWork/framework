{
 "cells": [
  {
   "cell_type": "code",
   "execution_count": 15,
   "metadata": {},
   "outputs": [],
   "source": [
    "import json\n",
    "import pandas as pd \n",
    "import datadotworld as dw\n",
    "f = open('link.txt','r')\n",
    "Lines = f.readlines()\n",
    "link = []\n",
    "\n",
    "for i in range(len(Lines)):\n",
    "    if i%2 == 0:\n",
    "        link.append((Lines[i])[1:].replace('\\n', ''))\n",
    "\n"
   ]
  },
  {
   "cell_type": "code",
   "execution_count": 16,
   "metadata": {},
   "outputs": [
    {
     "name": "stdout",
     "output_type": "stream",
     "text": [
      "['uci/diabetes', 'kumarkb/diabetes', 'rhoyt/diabetes', 'datagov-uk/6448fcc9-ea27-4fa3-81c1-cc2f9c578c3b', 'anaozp/diabetes', 'gabrielviana/diabetes', 'rshah/diabetes', 'health/diabetes-type-2-prevention', 'health/diabetes-prevalence', 'chhs/ca-diabetes-prevalence-2014', 'informatics-edu/diabetes-prediction', 'datagov-uk/5d77b99e-1f74-4eca-b65a-8705abedf088', 'data-society/pima-indians-diabetes-database', 'datagov-uk/698babf9-aadf-4cbb-bd06-53dbe5d0713f', 'johnsnowlabs/adherence-to-oral-diabetes-agents-for-diabetes-mellitus-nqf-2468', 'datagov-uk/0d6822fa-ee1d-41d6-a67d-3ee584ecc371', 'datagov-uk/4ca38978-b723-49fe-a2da-ac4516b216e2', 'datagov-uk/b532ab89-360d-47aa-99ea-d21eb01d3333', 'johnsnowlabs/adherence-to-oral-diabetes-agents-for-diabetes-mellitus-nqf', 'jefybusta/diabetespredictiondataset', 'healthdatany/bb49-98mq', 'johnsnowlabs/diagnosed-diabetes-prevalence-2004-2013', 'johnsnowlabs/diabetes-cases-by-deprivation-level-year-and-england-area', 'johnsnowlabs/us-diabetes-prevalence-1999-to-2012', 'thekellyhill/diabetes-and-wound-care', 'johnsnowlabs/diabetes-prevalence-in-african-americans', 'datagov-uk/bc8c02fa-a64d-40d3-a730-22673b1238e7', 'chhs/f9feb1b8-16de-41fc-a983-084bcf80db11', 'healthdatany/tchg-ruva', 'uci/pima-indians-diabetes', 'johnsnowlabs/cdc-diabetes-statistics-total-number', 'gpsdd/143f6cc0-aac6-4558-8f29-78e8edb7c942', 'uci/diabetes-130-us-hospitals-for-years-1999-2008', 'cityofchicago/vekt-28b5', 'akshayginodia/diabetes-dataset', 'johnsnowlabs/adherence-to-statins-for-individuals-with-diabetes-mellitus-nqf-0545', 'gymprathap/hypertension-stroke-diabetes-dataset', 'johnsnowlabs/adherence-to-aceis-and-arbs-for-diabetes-mellitus-nqf-2467', 'informatics-edu/diabetesvanderbilt', 'johnsnowlabs/cdc-diabetes-statistics', 'akshayginodia/diabetes-dataset-test', 'sumitrock/diabetes-example-data', 'throwback-thurs/throwbackdatathursday-19-wk-19-global-diabetes-prevalence', 'johnsnowlabs/adherence-to-statins-for-individuals-with-diabetes-mellitus', 'johnsnowlabs/incidence-and-surgical-procedures-for-diabetes-and-pad-hrr-level-2014', 'turba/early-stage-diabetes-risk-prediction-using-machine-learning', 'us-hhs-gov/850219b9-83c4-41a6-a288-e6cb1904c499', 'cdc/selected-trend-table-health', 'chhs/f2b33545-db0a-4a53-a611-41de532e7c53', 'gymprathap/diabetic-retinopathy-dataset']\n"
     ]
    }
   ],
   "source": [
    "print((link))"
   ]
  },
  {
   "cell_type": "code",
   "execution_count": 17,
   "metadata": {},
   "outputs": [
    {
     "name": "stdout",
     "output_type": "stream",
     "text": [
      "kumarkb/diabetes 0\n",
      "e: rhoyt/diabetes\n",
      "anaozp/diabetes 1\n",
      "gabrielviana/diabetes 2\n",
      "rshah/diabetes 3\n",
      "health/diabetes-type-2-prevention 4\n"
     ]
    },
    {
     "name": "stderr",
     "output_type": "stream",
     "text": [
      "c:\\Users\\khanhph9\\AppData\\Local\\anaconda3\\envs\\selenium\\lib\\site-packages\\datadotworld\\models\\dataset.py:206: UserWarning: Unable to set data frame dtypes automatically using rows schema. Data types may need to be adjusted manually. Error: Integer column has NA values in column 1\n",
      "  warnings.warn(\n"
     ]
    },
    {
     "name": "stdout",
     "output_type": "stream",
     "text": [
      "health/diabetes-prevalence 5\n",
      "chhs/ca-diabetes-prevalence-2014 6\n",
      "informatics-edu/diabetes-prediction 7\n",
      "informatics-edu/diabetes-prediction 8\n",
      "informatics-edu/diabetes-prediction 9\n",
      "informatics-edu/diabetes-prediction 10\n",
      "informatics-edu/diabetes-prediction 11\n",
      "informatics-edu/diabetes-prediction 12\n",
      "informatics-edu/diabetes-prediction 13\n",
      "informatics-edu/diabetes-prediction 14\n",
      "informatics-edu/diabetes-prediction 15\n"
     ]
    },
    {
     "name": "stderr",
     "output_type": "stream",
     "text": [
      "c:\\Users\\khanhph9\\AppData\\Local\\anaconda3\\envs\\selenium\\lib\\site-packages\\datadotworld\\models\\dataset.py:206: UserWarning: Unable to set data frame dtypes automatically using diabetes schema. Data types may need to be adjusted manually. Error: Integer column has NA values in column 1\n",
      "  warnings.warn(\n",
      "c:\\Users\\khanhph9\\AppData\\Local\\anaconda3\\envs\\selenium\\lib\\site-packages\\datadotworld\\models\\dataset.py:206: UserWarning: Unable to set data frame dtypes automatically using diabetes_registry_csv_introduction_to_biomedical_data_science schema. Data types may need to be adjusted manually. Error: Integer column has NA values in column 1\n",
      "  warnings.warn(\n",
      "c:\\Users\\khanhph9\\AppData\\Local\\anaconda3\\envs\\selenium\\lib\\site-packages\\datadotworld\\models\\dataset.py:206: UserWarning: Unable to set data frame dtypes automatically using functions schema. Data types may need to be adjusted manually. Error: Integer column has NA values in column 0\n",
      "  warnings.warn(\n",
      "c:\\Users\\khanhph9\\AppData\\Local\\anaconda3\\envs\\selenium\\lib\\site-packages\\datadotworld\\models\\dataset.py:206: UserWarning: Unable to set data frame dtypes automatically using contents schema. Data types may need to be adjusted manually. Error: cannot convert float NaN to integer\n",
      "  warnings.warn(\n"
     ]
    },
    {
     "name": "stdout",
     "output_type": "stream",
     "text": [
      "datagov-uk/5d77b99e-1f74-4eca-b65a-8705abedf088 16\n",
      "datagov-uk/5d77b99e-1f74-4eca-b65a-8705abedf088 17\n",
      "data-society/pima-indians-diabetes-database 18\n",
      "datagov-uk/698babf9-aadf-4cbb-bd06-53dbe5d0713f 19\n",
      "e: johnsnowlabs/adherence-to-oral-diabetes-agents-for-diabetes-mellitus-nqf-2468\n",
      "datagov-uk/0d6822fa-ee1d-41d6-a67d-3ee584ecc371 20\n",
      "datagov-uk/0d6822fa-ee1d-41d6-a67d-3ee584ecc371 21\n",
      "datagov-uk/4ca38978-b723-49fe-a2da-ac4516b216e2 22\n",
      "datagov-uk/4ca38978-b723-49fe-a2da-ac4516b216e2 23\n",
      "datagov-uk/b532ab89-360d-47aa-99ea-d21eb01d3333 24\n",
      "datagov-uk/b532ab89-360d-47aa-99ea-d21eb01d3333 25\n",
      "datagov-uk/b532ab89-360d-47aa-99ea-d21eb01d3333 26\n",
      "datagov-uk/b532ab89-360d-47aa-99ea-d21eb01d3333 27\n",
      "datagov-uk/b532ab89-360d-47aa-99ea-d21eb01d3333 28\n",
      "datagov-uk/b532ab89-360d-47aa-99ea-d21eb01d3333 29\n",
      "datagov-uk/b532ab89-360d-47aa-99ea-d21eb01d3333 30\n",
      "datagov-uk/b532ab89-360d-47aa-99ea-d21eb01d3333 31\n",
      "datagov-uk/b532ab89-360d-47aa-99ea-d21eb01d3333 32\n",
      "datagov-uk/b532ab89-360d-47aa-99ea-d21eb01d3333 33\n",
      "datagov-uk/b532ab89-360d-47aa-99ea-d21eb01d3333 34\n",
      "datagov-uk/b532ab89-360d-47aa-99ea-d21eb01d3333 35\n",
      "datagov-uk/b532ab89-360d-47aa-99ea-d21eb01d3333 36\n",
      "datagov-uk/b532ab89-360d-47aa-99ea-d21eb01d3333 37\n",
      "datagov-uk/b532ab89-360d-47aa-99ea-d21eb01d3333 38\n",
      "datagov-uk/b532ab89-360d-47aa-99ea-d21eb01d3333 39\n",
      "datagov-uk/b532ab89-360d-47aa-99ea-d21eb01d3333 40\n",
      "datagov-uk/b532ab89-360d-47aa-99ea-d21eb01d3333 41\n",
      "datagov-uk/b532ab89-360d-47aa-99ea-d21eb01d3333 42\n",
      "datagov-uk/b532ab89-360d-47aa-99ea-d21eb01d3333 43\n",
      "datagov-uk/b532ab89-360d-47aa-99ea-d21eb01d3333 44\n",
      "datagov-uk/b532ab89-360d-47aa-99ea-d21eb01d3333 45\n",
      "datagov-uk/b532ab89-360d-47aa-99ea-d21eb01d3333 46\n"
     ]
    },
    {
     "name": "stderr",
     "output_type": "stream",
     "text": [
      "c:\\Users\\khanhph9\\AppData\\Local\\anaconda3\\envs\\selenium\\lib\\site-packages\\datadotworld\\models\\dataset.py:206: UserWarning: Unable to set data frame dtypes automatically using 201718_macrooutcomes_2 schema. Data types may need to be adjusted manually. Error: Integer column has NA values in column 3\n",
      "  warnings.warn(\n"
     ]
    },
    {
     "name": "stdout",
     "output_type": "stream",
     "text": [
      "johnsnowlabs/adherence-to-oral-diabetes-agents-for-diabetes-mellitus-nqf 47\n",
      "johnsnowlabs/adherence-to-oral-diabetes-agents-for-diabetes-mellitus-nqf 48\n",
      "e: jefybusta/diabetespredictiondataset\n",
      "healthdatany/bb49-98mq 49\n",
      "e: johnsnowlabs/diagnosed-diabetes-prevalence-2004-2013\n",
      "e: johnsnowlabs/diabetes-cases-by-deprivation-level-year-and-england-area\n",
      "e: johnsnowlabs/us-diabetes-prevalence-1999-to-2012\n",
      "e: johnsnowlabs/diabetes-prevalence-in-african-americans\n"
     ]
    },
    {
     "name": "stderr",
     "output_type": "stream",
     "text": [
      "c:\\Users\\khanhph9\\AppData\\Local\\anaconda3\\envs\\selenium\\lib\\site-packages\\datadotworld\\models\\dataset.py:206: UserWarning: Unable to set data frame dtypes automatically using national_diabetes_audit_2017_21_adolescent_and_young_adult_type_1_diabetes_report_open_data_1 schema. Data types may need to be adjusted manually. Error: Integer column has NA values in column 9\n",
      "  warnings.warn(\n"
     ]
    },
    {
     "name": "stdout",
     "output_type": "stream",
     "text": [
      "datagov-uk/bc8c02fa-a64d-40d3-a730-22673b1238e7 50\n",
      "chhs/f9feb1b8-16de-41fc-a983-084bcf80db11 51\n",
      "chhs/f9feb1b8-16de-41fc-a983-084bcf80db11 52\n",
      "chhs/f9feb1b8-16de-41fc-a983-084bcf80db11 53\n",
      "chhs/f9feb1b8-16de-41fc-a983-084bcf80db11 54\n"
     ]
    },
    {
     "name": "stderr",
     "output_type": "stream",
     "text": [
      "c:\\Users\\khanhph9\\AppData\\Local\\anaconda3\\envs\\selenium\\lib\\site-packages\\datadotworld\\models\\dataset.py:206: UserWarning: Unable to set data frame dtypes automatically using community_health_obesity_and_diabetes_related_indicators_2008_2012_1 schema. Data types may need to be adjusted manually. Error: Integer column has NA values in column 5\n",
      "  warnings.warn(\n"
     ]
    },
    {
     "name": "stdout",
     "output_type": "stream",
     "text": [
      "healthdatany/tchg-ruva 55\n",
      "uci/pima-indians-diabetes 56\n",
      "e: johnsnowlabs/cdc-diabetes-statistics-total-number\n",
      "gpsdd/143f6cc0-aac6-4558-8f29-78e8edb7c942 57\n",
      "uci/diabetes-130-us-hospitals-for-years-1999-2008 58\n",
      "uci/diabetes-130-us-hospitals-for-years-1999-2008 59\n"
     ]
    },
    {
     "name": "stderr",
     "output_type": "stream",
     "text": [
      "c:\\Users\\khanhph9\\AppData\\Local\\anaconda3\\envs\\selenium\\lib\\site-packages\\datadotworld\\models\\dataset.py:206: UserWarning: Unable to set data frame dtypes automatically using public_health_statistics_diabetes_hospitalizations_in_chicago_2000_2011_1 schema. Data types may need to be adjusted manually. Error: Integer column has NA values in column 1\n",
      "  warnings.warn(\n"
     ]
    },
    {
     "name": "stdout",
     "output_type": "stream",
     "text": [
      "cityofchicago/vekt-28b5 60\n",
      "akshayginodia/diabetes-dataset 61\n",
      "e: johnsnowlabs/adherence-to-statins-for-individuals-with-diabetes-mellitus-nqf-0545\n",
      "e: gymprathap/hypertension-stroke-diabetes-dataset\n",
      "e: johnsnowlabs/adherence-to-aceis-and-arbs-for-diabetes-mellitus-nqf-2467\n"
     ]
    },
    {
     "name": "stderr",
     "output_type": "stream",
     "text": [
      "c:\\Users\\khanhph9\\AppData\\Local\\anaconda3\\envs\\selenium\\lib\\site-packages\\datadotworld\\models\\dataset.py:206: UserWarning: Unable to set data frame dtypes automatically using diabetes_raw_vanderbilt schema. Data types may need to be adjusted manually. Error: Integer column has NA values in column 1\n",
      "  warnings.warn(\n"
     ]
    },
    {
     "name": "stdout",
     "output_type": "stream",
     "text": [
      "informatics-edu/diabetesvanderbilt 62\n",
      "e: johnsnowlabs/cdc-diabetes-statistics\n",
      "akshayginodia/diabetes-dataset-test 63\n",
      "sumitrock/diabetes-example-data 64\n",
      "throwback-thurs/throwbackdatathursday-19-wk-19-global-diabetes-prevalence 65\n",
      "johnsnowlabs/adherence-to-statins-for-individuals-with-diabetes-mellitus 66\n",
      "johnsnowlabs/adherence-to-statins-for-individuals-with-diabetes-mellitus 67\n",
      "e: johnsnowlabs/incidence-and-surgical-procedures-for-diabetes-and-pad-hrr-level-2014\n",
      "turba/early-stage-diabetes-risk-prediction-using-machine-learning 68\n"
     ]
    },
    {
     "name": "stderr",
     "output_type": "stream",
     "text": [
      "c:\\Users\\khanhph9\\AppData\\Local\\anaconda3\\envs\\selenium\\lib\\site-packages\\datadotworld\\models\\dataset.py:206: UserWarning: Unable to set data frame dtypes automatically using csv_1 schema. Data types may need to be adjusted manually. Error: Integer column has NA values in column 1\n",
      "  warnings.warn(\n"
     ]
    },
    {
     "name": "stdout",
     "output_type": "stream",
     "text": [
      "us-hhs-gov/850219b9-83c4-41a6-a288-e6cb1904c499 69\n",
      "chhs/f2b33545-db0a-4a53-a611-41de532e7c53 70\n",
      "chhs/f2b33545-db0a-4a53-a611-41de532e7c53 71\n",
      "chhs/f2b33545-db0a-4a53-a611-41de532e7c53 72\n",
      "chhs/f2b33545-db0a-4a53-a611-41de532e7c53 73\n"
     ]
    },
    {
     "name": "stderr",
     "output_type": "stream",
     "text": [
      "c:\\Users\\khanhph9\\AppData\\Local\\anaconda3\\envs\\selenium\\lib\\site-packages\\datadotworld\\models\\dataset.py:206: UserWarning: Unable to set data frame dtypes automatically using rates_of_preventable_hospitalizations_for_selected_medical_conditions_by_county schema. Data types may need to be adjusted manually. Error: Integer column has NA values in column 4\n",
      "  warnings.warn(\n",
      "c:\\Users\\khanhph9\\AppData\\Local\\anaconda3\\envs\\selenium\\lib\\site-packages\\datadotworld\\models\\dataset.py:206: UserWarning: Unable to set data frame dtypes automatically using rates_of_preventable_hospitalizations_for_selected_medical_conditions_by_county_lghc_indicator_6 schema. Data types may need to be adjusted manually. Error: Integer column has NA values in column 4\n",
      "  warnings.warn(\n"
     ]
    },
    {
     "name": "stdout",
     "output_type": "stream",
     "text": [
      "e: gymprathap/diabetic-retinopathy-dataset\n"
     ]
    }
   ],
   "source": [
    "k = 0\n",
    "for i in range(len(link)):\n",
    "    try:\n",
    "        intro_dataset = dw.load_dataset(link[i])\n",
    "        tables = (intro_dataset.dataframes)\n",
    "        if tables:\n",
    "            for table in tables:\n",
    "                tables[table].to_csv('CrawlerData/DataWorld_{}.csv'.format(k),index=False)\n",
    "                print(link[i],k)\n",
    "                k+=1\n",
    "    except:\n",
    "        print('e: '+link[i])"
   ]
  },
  {
   "cell_type": "code",
   "execution_count": 18,
   "metadata": {},
   "outputs": [
    {
     "name": "stdout",
     "output_type": "stream",
     "text": [
      "75\n"
     ]
    }
   ],
   "source": [
    "import os\n",
    "import pandas as pd \n",
    "dir = os.listdir('CrawlerData')\n",
    "fp = open('cols.txt','w')\n",
    "# print(pd.read_csv(dir[0]))\n",
    "print(len(dir))\n",
    "for file in dir:\n",
    "    if file.endswith('.csv'):\n",
    "        table = pd.read_csv(os.path.join('CrawlerData',file))\n",
    "        x = ((table.columns).to_list())\n",
    "        x.insert(0,len(table))\n",
    "        x.insert(0,file)\n",
    "        fp.write(str(x)+'\\n')"
   ]
  }
 ],
 "metadata": {
  "kernelspec": {
   "display_name": "selenium",
   "language": "python",
   "name": "python3"
  },
  "language_info": {
   "codemirror_mode": {
    "name": "ipython",
    "version": 3
   },
   "file_extension": ".py",
   "mimetype": "text/x-python",
   "name": "python",
   "nbconvert_exporter": "python",
   "pygments_lexer": "ipython3",
   "version": "3.9.18"
  }
 },
 "nbformat": 4,
 "nbformat_minor": 2
}
